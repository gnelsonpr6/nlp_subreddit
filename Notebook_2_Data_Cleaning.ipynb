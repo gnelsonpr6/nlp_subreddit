{
 "cells": [
  {
   "cell_type": "code",
   "execution_count": 1,
   "metadata": {},
   "outputs": [],
   "source": [
    "import requests\n",
    "import pandas as pd\n",
    "import numpy as np\n",
    "import matplotlib.pyplot as plt\n",
    "import seaborn as sns\n",
    "import time"
   ]
  },
  {
   "cell_type": "code",
   "execution_count": 2,
   "metadata": {},
   "outputs": [],
   "source": [
    "### Loading in dataframes"
   ]
  },
  {
   "cell_type": "code",
   "execution_count": 3,
   "metadata": {},
   "outputs": [],
   "source": [
    "iphone = pd.read_csv('iphone.csv')"
   ]
  },
  {
   "cell_type": "code",
   "execution_count": 4,
   "metadata": {},
   "outputs": [],
   "source": [
    "android = pd.read_csv('android.csv')"
   ]
  },
  {
   "cell_type": "code",
   "execution_count": 5,
   "metadata": {},
   "outputs": [
    {
     "data": {
      "text/html": [
       "<div>\n",
       "<style scoped>\n",
       "    .dataframe tbody tr th:only-of-type {\n",
       "        vertical-align: middle;\n",
       "    }\n",
       "\n",
       "    .dataframe tbody tr th {\n",
       "        vertical-align: top;\n",
       "    }\n",
       "\n",
       "    .dataframe thead th {\n",
       "        text-align: right;\n",
       "    }\n",
       "</style>\n",
       "<table border=\"1\" class=\"dataframe\">\n",
       "  <thead>\n",
       "    <tr style=\"text-align: right;\">\n",
       "      <th></th>\n",
       "      <th>Unnamed: 0</th>\n",
       "      <th>subreddit</th>\n",
       "      <th>selftext</th>\n",
       "      <th>title</th>\n",
       "    </tr>\n",
       "  </thead>\n",
       "  <tbody>\n",
       "    <tr>\n",
       "      <th>0</th>\n",
       "      <td>0</td>\n",
       "      <td>iphone</td>\n",
       "      <td>[removed]</td>\n",
       "      <td>What's App Slow on iPhone compared to Android</td>\n",
       "    </tr>\n",
       "    <tr>\n",
       "      <th>1</th>\n",
       "      <td>1</td>\n",
       "      <td>iphone</td>\n",
       "      <td>NaN</td>\n",
       "      <td>Iphone X expansive offer (Email Submit).</td>\n",
       "    </tr>\n",
       "    <tr>\n",
       "      <th>2</th>\n",
       "      <td>2</td>\n",
       "      <td>iphone</td>\n",
       "      <td>NaN</td>\n",
       "      <td>Got my first job, saved up for over a year, an...</td>\n",
       "    </tr>\n",
       "    <tr>\n",
       "      <th>3</th>\n",
       "      <td>3</td>\n",
       "      <td>iphone</td>\n",
       "      <td>NaN</td>\n",
       "      <td>Get S&amp;amp; P iPhone XS</td>\n",
       "    </tr>\n",
       "    <tr>\n",
       "      <th>4</th>\n",
       "      <td>4</td>\n",
       "      <td>iphone</td>\n",
       "      <td>[removed]</td>\n",
       "      <td>Iphone 12 mini standby issues</td>\n",
       "    </tr>\n",
       "  </tbody>\n",
       "</table>\n",
       "</div>"
      ],
      "text/plain": [
       "   Unnamed: 0 subreddit   selftext  \\\n",
       "0           0    iphone  [removed]   \n",
       "1           1    iphone        NaN   \n",
       "2           2    iphone        NaN   \n",
       "3           3    iphone        NaN   \n",
       "4           4    iphone  [removed]   \n",
       "\n",
       "                                               title  \n",
       "0      What's App Slow on iPhone compared to Android  \n",
       "1           Iphone X expansive offer (Email Submit).  \n",
       "2  Got my first job, saved up for over a year, an...  \n",
       "3                             Get S&amp; P iPhone XS  \n",
       "4                      Iphone 12 mini standby issues  "
      ]
     },
     "execution_count": 5,
     "metadata": {},
     "output_type": "execute_result"
    }
   ],
   "source": [
    "iphone.head()"
   ]
  },
  {
   "cell_type": "code",
   "execution_count": 6,
   "metadata": {},
   "outputs": [
    {
     "data": {
      "text/html": [
       "<div>\n",
       "<style scoped>\n",
       "    .dataframe tbody tr th:only-of-type {\n",
       "        vertical-align: middle;\n",
       "    }\n",
       "\n",
       "    .dataframe tbody tr th {\n",
       "        vertical-align: top;\n",
       "    }\n",
       "\n",
       "    .dataframe thead th {\n",
       "        text-align: right;\n",
       "    }\n",
       "</style>\n",
       "<table border=\"1\" class=\"dataframe\">\n",
       "  <thead>\n",
       "    <tr style=\"text-align: right;\">\n",
       "      <th></th>\n",
       "      <th>Unnamed: 0</th>\n",
       "      <th>subreddit</th>\n",
       "      <th>selftext</th>\n",
       "      <th>title</th>\n",
       "    </tr>\n",
       "  </thead>\n",
       "  <tbody>\n",
       "    <tr>\n",
       "      <th>0</th>\n",
       "      <td>0</td>\n",
       "      <td>Android</td>\n",
       "      <td>NaN</td>\n",
       "      <td>OnePlus broke Google Play on 7T Pro with lates...</td>\n",
       "    </tr>\n",
       "    <tr>\n",
       "      <th>1</th>\n",
       "      <td>1</td>\n",
       "      <td>Android</td>\n",
       "      <td>[removed]</td>\n",
       "      <td>Blinking battery arrow</td>\n",
       "    </tr>\n",
       "    <tr>\n",
       "      <th>2</th>\n",
       "      <td>2</td>\n",
       "      <td>Android</td>\n",
       "      <td>[removed]</td>\n",
       "      <td>I need help pls</td>\n",
       "    </tr>\n",
       "    <tr>\n",
       "      <th>3</th>\n",
       "      <td>3</td>\n",
       "      <td>Android</td>\n",
       "      <td>[removed]</td>\n",
       "      <td>M31 Android 11</td>\n",
       "    </tr>\n",
       "    <tr>\n",
       "      <th>4</th>\n",
       "      <td>4</td>\n",
       "      <td>Android</td>\n",
       "      <td>[removed]</td>\n",
       "      <td>Where are wallpapers saved to?</td>\n",
       "    </tr>\n",
       "  </tbody>\n",
       "</table>\n",
       "</div>"
      ],
      "text/plain": [
       "   Unnamed: 0 subreddit   selftext  \\\n",
       "0           0   Android        NaN   \n",
       "1           1   Android  [removed]   \n",
       "2           2   Android  [removed]   \n",
       "3           3   Android  [removed]   \n",
       "4           4   Android  [removed]   \n",
       "\n",
       "                                               title  \n",
       "0  OnePlus broke Google Play on 7T Pro with lates...  \n",
       "1                             Blinking battery arrow  \n",
       "2                                    I need help pls  \n",
       "3                                     M31 Android 11  \n",
       "4                     Where are wallpapers saved to?  "
      ]
     },
     "execution_count": 6,
     "metadata": {},
     "output_type": "execute_result"
    }
   ],
   "source": [
    "android.head()"
   ]
  },
  {
   "cell_type": "code",
   "execution_count": 7,
   "metadata": {},
   "outputs": [],
   "source": [
    "### Combining datasets into one"
   ]
  },
  {
   "cell_type": "code",
   "execution_count": 8,
   "metadata": {},
   "outputs": [],
   "source": [
    "df = pd.concat([iphone, android])"
   ]
  },
  {
   "cell_type": "code",
   "execution_count": 9,
   "metadata": {},
   "outputs": [
    {
     "data": {
      "text/html": [
       "<div>\n",
       "<style scoped>\n",
       "    .dataframe tbody tr th:only-of-type {\n",
       "        vertical-align: middle;\n",
       "    }\n",
       "\n",
       "    .dataframe tbody tr th {\n",
       "        vertical-align: top;\n",
       "    }\n",
       "\n",
       "    .dataframe thead th {\n",
       "        text-align: right;\n",
       "    }\n",
       "</style>\n",
       "<table border=\"1\" class=\"dataframe\">\n",
       "  <thead>\n",
       "    <tr style=\"text-align: right;\">\n",
       "      <th></th>\n",
       "      <th>Unnamed: 0</th>\n",
       "      <th>subreddit</th>\n",
       "      <th>selftext</th>\n",
       "      <th>title</th>\n",
       "    </tr>\n",
       "  </thead>\n",
       "  <tbody>\n",
       "    <tr>\n",
       "      <th>0</th>\n",
       "      <td>0</td>\n",
       "      <td>iphone</td>\n",
       "      <td>[removed]</td>\n",
       "      <td>What's App Slow on iPhone compared to Android</td>\n",
       "    </tr>\n",
       "    <tr>\n",
       "      <th>1</th>\n",
       "      <td>1</td>\n",
       "      <td>iphone</td>\n",
       "      <td>NaN</td>\n",
       "      <td>Iphone X expansive offer (Email Submit).</td>\n",
       "    </tr>\n",
       "    <tr>\n",
       "      <th>2</th>\n",
       "      <td>2</td>\n",
       "      <td>iphone</td>\n",
       "      <td>NaN</td>\n",
       "      <td>Got my first job, saved up for over a year, an...</td>\n",
       "    </tr>\n",
       "    <tr>\n",
       "      <th>3</th>\n",
       "      <td>3</td>\n",
       "      <td>iphone</td>\n",
       "      <td>NaN</td>\n",
       "      <td>Get S&amp;amp; P iPhone XS</td>\n",
       "    </tr>\n",
       "    <tr>\n",
       "      <th>4</th>\n",
       "      <td>4</td>\n",
       "      <td>iphone</td>\n",
       "      <td>[removed]</td>\n",
       "      <td>Iphone 12 mini standby issues</td>\n",
       "    </tr>\n",
       "  </tbody>\n",
       "</table>\n",
       "</div>"
      ],
      "text/plain": [
       "   Unnamed: 0 subreddit   selftext  \\\n",
       "0           0    iphone  [removed]   \n",
       "1           1    iphone        NaN   \n",
       "2           2    iphone        NaN   \n",
       "3           3    iphone        NaN   \n",
       "4           4    iphone  [removed]   \n",
       "\n",
       "                                               title  \n",
       "0      What's App Slow on iPhone compared to Android  \n",
       "1           Iphone X expansive offer (Email Submit).  \n",
       "2  Got my first job, saved up for over a year, an...  \n",
       "3                             Get S&amp; P iPhone XS  \n",
       "4                      Iphone 12 mini standby issues  "
      ]
     },
     "execution_count": 9,
     "metadata": {},
     "output_type": "execute_result"
    }
   ],
   "source": [
    "df.head()"
   ]
  },
  {
   "cell_type": "code",
   "execution_count": 10,
   "metadata": {},
   "outputs": [],
   "source": [
    "### Dropping unnecessary columns"
   ]
  },
  {
   "cell_type": "code",
   "execution_count": 11,
   "metadata": {},
   "outputs": [],
   "source": [
    "df = df.drop(columns='Unnamed: 0')"
   ]
  },
  {
   "cell_type": "code",
   "execution_count": 12,
   "metadata": {},
   "outputs": [
    {
     "data": {
      "text/html": [
       "<div>\n",
       "<style scoped>\n",
       "    .dataframe tbody tr th:only-of-type {\n",
       "        vertical-align: middle;\n",
       "    }\n",
       "\n",
       "    .dataframe tbody tr th {\n",
       "        vertical-align: top;\n",
       "    }\n",
       "\n",
       "    .dataframe thead th {\n",
       "        text-align: right;\n",
       "    }\n",
       "</style>\n",
       "<table border=\"1\" class=\"dataframe\">\n",
       "  <thead>\n",
       "    <tr style=\"text-align: right;\">\n",
       "      <th></th>\n",
       "      <th>subreddit</th>\n",
       "      <th>selftext</th>\n",
       "      <th>title</th>\n",
       "    </tr>\n",
       "  </thead>\n",
       "  <tbody>\n",
       "    <tr>\n",
       "      <th>0</th>\n",
       "      <td>iphone</td>\n",
       "      <td>[removed]</td>\n",
       "      <td>What's App Slow on iPhone compared to Android</td>\n",
       "    </tr>\n",
       "    <tr>\n",
       "      <th>1</th>\n",
       "      <td>iphone</td>\n",
       "      <td>NaN</td>\n",
       "      <td>Iphone X expansive offer (Email Submit).</td>\n",
       "    </tr>\n",
       "    <tr>\n",
       "      <th>2</th>\n",
       "      <td>iphone</td>\n",
       "      <td>NaN</td>\n",
       "      <td>Got my first job, saved up for over a year, an...</td>\n",
       "    </tr>\n",
       "    <tr>\n",
       "      <th>3</th>\n",
       "      <td>iphone</td>\n",
       "      <td>NaN</td>\n",
       "      <td>Get S&amp;amp; P iPhone XS</td>\n",
       "    </tr>\n",
       "    <tr>\n",
       "      <th>4</th>\n",
       "      <td>iphone</td>\n",
       "      <td>[removed]</td>\n",
       "      <td>Iphone 12 mini standby issues</td>\n",
       "    </tr>\n",
       "  </tbody>\n",
       "</table>\n",
       "</div>"
      ],
      "text/plain": [
       "  subreddit   selftext                                              title\n",
       "0    iphone  [removed]      What's App Slow on iPhone compared to Android\n",
       "1    iphone        NaN           Iphone X expansive offer (Email Submit).\n",
       "2    iphone        NaN  Got my first job, saved up for over a year, an...\n",
       "3    iphone        NaN                             Get S&amp; P iPhone XS\n",
       "4    iphone  [removed]                      Iphone 12 mini standby issues"
      ]
     },
     "execution_count": 12,
     "metadata": {},
     "output_type": "execute_result"
    }
   ],
   "source": [
    "df.head()"
   ]
  },
  {
   "cell_type": "code",
   "execution_count": 13,
   "metadata": {},
   "outputs": [],
   "source": [
    "### Analyzing the selftext column, and setting values of null, '[removed]' and '[deleted]' to ''."
   ]
  },
  {
   "cell_type": "code",
   "execution_count": 14,
   "metadata": {},
   "outputs": [
    {
     "data": {
      "text/plain": [
       "[removed]                                                                                                                                                                                                                                                                                                                                                                                                                                                                                                                                                                                                                                                                                                                                                                                                                                                                                                                                                                                                                                                                                                                                                                                                                                                                                                                                                                                                                                                                                                                                                                                                                                                                                                                                                                                                                                                        13246\n",
       "[deleted]                                                                                                                                                                                                                                                                                                                                                                                                                                                                                                                                                                                                                                                                                                                                                                                                                                                                                                                                                                                                                                                                                                                                                                                                                                                                                                                                                                                                                                                                                                                                                                                                                                                                                                                                                                                                                                                          206\n",
       "**Credits to the team at /r/PickAnAndroidForMe for compiling this information:**\\n\\n* Home - https://www.reddit.com/r/PickAnAndroidForMe/wiki/index\\n\\n* Smartphones 101 - https://www.reddit.com/r/PickAnAndroidForMe/wiki/smartphones101\\n\\n* Top Phones - https://www.reddit.com/r/PickAnAndroidForMe/wiki/phones\\n\\n\\n***        \\nNote 1. Join us at /r/MoronicMondayAndroid, a sub serving as a repository for our retired weekly threads. Just pick any thread and Ctrl-F your way to wisdom! \\n\\nNote 2. Join our IRC, and Telegram chat-rooms! [Please see our wiki for instructions.](https://www.reddit.com/r/Android/wiki/index#wiki_.2Fr.2Fandroid_chat_rooms)                                                                                                                                                                                                                                                                                                                                                                                                                                                                                                                                                                                                                                                                                                                                                                                                                                                                                                                                                                                                                                                                                                                                                                                         14\n",
       "Note 1. [Check out our apps wiki](https://www.reddit.com/r/Android/wiki/index#wiki_apps) for previous threads and apps curated by the reddit Android community!  \\n\\n[Download the official /r/Android App Store based on our wiki!](https://github.com/d4rken/reddit-android-appstore/releases)\\n\\nNote 2. Join us at **/r/MoronicMondayAndroid**, a sub serving as a repository for our retired weekly threads. Just pick any thread and Ctrl-F your way to wisdom! \\n\\nNote 2. Join our IRC, and Telegram chat-rooms! [Please see our wiki for instructions.](https://www.reddit.com/r/Android/wiki/index#wiki_.2Fr.2Fandroid_chat_rooms)\\n\\n\\n***  \\n\\nThis weekly Saturday thread is for:  \\n* App promotion,  \\n* App praise/sharing  \\n\\n***  \\n\\n**Rules:**  \\n\\n1) If you are a developer, you may promote your own app ONLY under the bolded, distinguished moderator comment. Users: if you think someone is trying to bypass this rule by promoting their app in the general thread, click the report button so we can take a look!                                                                                                                                                                                                                                                                                                                                                                                                                                                                                                                                                                                                                                                                                                                                                                                                                     13\n",
       "Welcome to the Daily Tech Support thread for /r/iphone. \\n\\nHave a question you need answered? Ask away! Please remember to adhere to our rules, which can be found in the sidebar. As usual, if you have a serious issue with the subreddit, please contact [the moderators directly.](https://www.reddit.com/message/compose?to=%2Fr%2Fiphone)\\n\\nPlease be informed that any questions about bypassing iCloud lock,  or anything similar that may infer that you are trying to get access to a locked iPhone, are no longer allowed and will be removed. Thank you.\\n\\nCheck our [Tech Support FAQ page](https://www.reddit.com/r/iphone/wiki/support-faq)\\n\\nJoin our Discord room for support:\\n\\n[Discord](https://discord.gg/iphone)\\n\\n**Note: Comments are sorted by /new for your convenience.**\\n\\nThis is the previous [archive](https://www.reddit.com/r/iphone/search?q=title%3A%22Daily+Tech+Support+Thread%22+author%3A%22AutoModerator%22&amp;restrict_sr=on&amp;sort=new&amp;t=all) of all previous \"Daily Tech Support\" threads. This is best viewed on a browser. If on mobile, type on the searchbar [title:\"Daily Tech Support Thread\" author:\"AutoModerator\"] (without the brackets, and including the quotation marks around the title and author.)   \\n\\nHere is a previous [archive](https://www.reddit.com/r/iphone/search?q=title%3A%22Weekly+Tech+Support+Thread%22+author%3A%22AutoModerator%22&amp;restrict_sr=on&amp;sort=new&amp;t=all) of all previous \"Weekly Tech Support\" threads, which has now changed to Daily Tech Support Thread. This is best viewed on a browser. If on mobile, type on the searchbar [title:\"Weekly Tech Support Thread\" author:\"AutoModerator\"] (without the brackets, and including the quotation marks around the title and author.)                                                                13\n",
       "                                                                                                                                                                                                                                                                                                                                                                                                                                                                                                                                                                                                                                                                                                                                                                                                                                                                                                                                                                                                                                                                                                                                                                                                                                                                                                                                                                                                                                                                                                                                                                                                                                                                                                                                                                                                                                                                 ...  \n",
       "https://www.reddit.com/r/SamsungPay/comments/kf90ri/samsung_pay_tiers_ending_in_2_weeks/\\n\\n\"As of 12/31/2020 at 11:59 PM PST, you will no longer earn Rewards points for Samsung Pay transactions and gift card purchases. This also means that Samsung Rewards Tiers no longer hold any benefits and we will be ending our Tier program for the time being. However, points can still be earned at Galaxy Store, Samsung.com, Shop app and with other Samsung services and applications.\"                                                                                                                                                                                                                                                                                                                                                                                                                                                                                                                                                                                                                                                                                                                                                                                                                                                                                                                                                                                                                                                                                                                                                                                                                                                                                                                                                                          1\n",
       "VZW and Apple has kept us in the dark with the 'by the end of the year' update on the 5G and dual sim issue for new iphones? I have my sim with my number and an e-sim with my work number so I only get LTE - whats going on and why are these assholes mum about it - not a single post since october...                                                                                                                                                                                                                                                                                                                                                                                                                                                                                                                                                                                                                                                                                                                                                                                                                                                                                                                                                                                                                                                                                                                                                                                                                                                                                                                                                                                                                                                                                                                                                           1\n",
       "Does the Otterbox Defenders case really protect the screen on my iPhone even if dropped onto some kind of uneven or jagged surface?                                                                                                                                                                                                                                                                                                                                                                                                                                                                                                                                                                                                                                                                                                                                                                                                                                                                                                                                                                                                                                                                                                                                                                                                                                                                                                                                                                                                                                                                                                                                                                                                                                                                                                                                  1\n",
       "I have two phones, an iPhone 6s Plus and a Samsung that I use as backup phone.\\n\\nSometimes I forget to charge my iPhone before I go to bed, when I wake up the phone is completely dead and takes over an hour to power back on when I plug it into the charger. Usually when I forget to charge at night it’s somewhere between 30 and 40% \\n\\nI don’t think it’s normal for my phone to take over an hours to power on whenever it dies, my Samsung would be dead for several days and it powers on as soon as I plug it to the charger.                                                                                                                                                                                                                                                                                                                                                                                                                                                                                                                                                                                                                                                                                                                                                                                                                                                                                                                                                                                                                                                                                                                                                                                                                                                                                                                          1\n",
       "Hey r/Android! I lurk here often but the last time I did an AMA was like [five years ago](https://www.reddit.com/r/Android/comments/3bgd3r/ama_michael_fisher_of_pocketnow/). (So, for what seems like the fifth time this week, I get to say: \"damn, I'm getting old, eh?\")\\n\\nSince 2015, I've teamed up with Mobile Nations (now Future plc) to launch the [MrMobile YouTube channel](https://youtube.com/themrmobile), which recently crossed the 1M subscriber mark. More importantly, mobile tech has shaken out of its mid-decade slump and gotten much more exciting with the advent of [foldable phones](https://www.youtube.com/playlist?list=PLwd8abTO4vh3FQQrjgjxPHkJLiL4BS39h), swinging phones, rollable phones, and so on. It's a great time to be a tech YouTuber.\\n\\nI'm here to talk about crazy new phones, [crazy old phones](https://www.youtube.com/playlist?list=PLwd8abTO4vh2smuMzykXDOPNnsxhHC4Oh), wearables, life as a YouTuber, [ethics in tech reporting](https://www.mrmobile.tech/ethics), Jibo, Star Trek, seaQuest DSV ... pretty much anything you want. (Verification is in [this thread](https://www.reddit.com/r/Android/comments/jv24ht/ama_announcement_michael_fisher_17th_of_november/).)\\n\\nI'm here till 8p Eastern, so ask away!\\n\\n**EDIT**: Whew! Ended up staying an hour over, just because y'all have really well-structured questions and I wanted to answer as many as I could. I feel terrible leaving the longer ones un-answered, folks, but my eyes are blurry and my gf (and my favorite roommate, the cat) are waiting for me to join them for dinner.\\n\\nThanks so much for the opportunity to chat with you all – and thanks for always being so friendly to me here on the subreddit. As I said above, I lurk often, and I always appreciate your kindness! Be well, stay safe – and stay mobile!        1\n",
       "Name: selftext, Length: 142, dtype: int64"
      ]
     },
     "execution_count": 14,
     "metadata": {},
     "output_type": "execute_result"
    }
   ],
   "source": [
    "df['selftext'].value_counts()"
   ]
  },
  {
   "cell_type": "code",
   "execution_count": 15,
   "metadata": {},
   "outputs": [
    {
     "data": {
      "text/plain": [
       "subreddit       0\n",
       "selftext     6339\n",
       "title           0\n",
       "dtype: int64"
      ]
     },
     "execution_count": 15,
     "metadata": {},
     "output_type": "execute_result"
    }
   ],
   "source": [
    "df.isnull().sum()"
   ]
  },
  {
   "cell_type": "code",
   "execution_count": 16,
   "metadata": {},
   "outputs": [],
   "source": [
    "### Filling null text values"
   ]
  },
  {
   "cell_type": "code",
   "execution_count": 17,
   "metadata": {},
   "outputs": [],
   "source": [
    "df = df.fillna('')"
   ]
  },
  {
   "cell_type": "code",
   "execution_count": 18,
   "metadata": {},
   "outputs": [
    {
     "data": {
      "text/plain": [
       "subreddit    0\n",
       "selftext     0\n",
       "title        0\n",
       "dtype: int64"
      ]
     },
     "execution_count": 18,
     "metadata": {},
     "output_type": "execute_result"
    }
   ],
   "source": [
    "df.isnull().sum()"
   ]
  },
  {
   "cell_type": "code",
   "execution_count": 19,
   "metadata": {},
   "outputs": [],
   "source": [
    "### replacing non-text entries with an empty string to then combine the 'selftext' and 'title' columns "
   ]
  },
  {
   "cell_type": "code",
   "execution_count": 20,
   "metadata": {},
   "outputs": [],
   "source": [
    " text_list = []\n",
    "for value in df['selftext']:\n",
    "    if value == '[removed]':\n",
    "        text_list.append('')\n",
    "    elif value == '[deleted]':\n",
    "        text_list.append('')\n",
    "    elif value == '':\n",
    "        text_list.append('')\n",
    "    else:\n",
    "        text_list.append(value)\n",
    "        \n",
    "df['selftext'] = text_list"
   ]
  },
  {
   "cell_type": "code",
   "execution_count": 21,
   "metadata": {},
   "outputs": [],
   "source": [
    "df['text'] = df['title'] + df['selftext'] "
   ]
  },
  {
   "cell_type": "code",
   "execution_count": 22,
   "metadata": {},
   "outputs": [
    {
     "data": {
      "text/html": [
       "<div>\n",
       "<style scoped>\n",
       "    .dataframe tbody tr th:only-of-type {\n",
       "        vertical-align: middle;\n",
       "    }\n",
       "\n",
       "    .dataframe tbody tr th {\n",
       "        vertical-align: top;\n",
       "    }\n",
       "\n",
       "    .dataframe thead th {\n",
       "        text-align: right;\n",
       "    }\n",
       "</style>\n",
       "<table border=\"1\" class=\"dataframe\">\n",
       "  <thead>\n",
       "    <tr style=\"text-align: right;\">\n",
       "      <th></th>\n",
       "      <th>subreddit</th>\n",
       "      <th>selftext</th>\n",
       "      <th>title</th>\n",
       "      <th>text</th>\n",
       "    </tr>\n",
       "  </thead>\n",
       "  <tbody>\n",
       "    <tr>\n",
       "      <th>0</th>\n",
       "      <td>iphone</td>\n",
       "      <td></td>\n",
       "      <td>What's App Slow on iPhone compared to Android</td>\n",
       "      <td>What's App Slow on iPhone compared to Android</td>\n",
       "    </tr>\n",
       "    <tr>\n",
       "      <th>1</th>\n",
       "      <td>iphone</td>\n",
       "      <td></td>\n",
       "      <td>Iphone X expansive offer (Email Submit).</td>\n",
       "      <td>Iphone X expansive offer (Email Submit).</td>\n",
       "    </tr>\n",
       "    <tr>\n",
       "      <th>2</th>\n",
       "      <td>iphone</td>\n",
       "      <td></td>\n",
       "      <td>Got my first job, saved up for over a year, an...</td>\n",
       "      <td>Got my first job, saved up for over a year, an...</td>\n",
       "    </tr>\n",
       "    <tr>\n",
       "      <th>3</th>\n",
       "      <td>iphone</td>\n",
       "      <td></td>\n",
       "      <td>Get S&amp;amp; P iPhone XS</td>\n",
       "      <td>Get S&amp;amp; P iPhone XS</td>\n",
       "    </tr>\n",
       "    <tr>\n",
       "      <th>4</th>\n",
       "      <td>iphone</td>\n",
       "      <td></td>\n",
       "      <td>Iphone 12 mini standby issues</td>\n",
       "      <td>Iphone 12 mini standby issues</td>\n",
       "    </tr>\n",
       "    <tr>\n",
       "      <th>...</th>\n",
       "      <td>...</td>\n",
       "      <td>...</td>\n",
       "      <td>...</td>\n",
       "      <td>...</td>\n",
       "    </tr>\n",
       "    <tr>\n",
       "      <th>9995</th>\n",
       "      <td>Android</td>\n",
       "      <td></td>\n",
       "      <td>[SELF] Recomendo - The app that gives tv shows...</td>\n",
       "      <td>[SELF] Recomendo - The app that gives tv shows...</td>\n",
       "    </tr>\n",
       "    <tr>\n",
       "      <th>9996</th>\n",
       "      <td>Android</td>\n",
       "      <td></td>\n",
       "      <td>Ticwatch Pro 3 Review: Wear OS Finally Works!</td>\n",
       "      <td>Ticwatch Pro 3 Review: Wear OS Finally Works!</td>\n",
       "    </tr>\n",
       "    <tr>\n",
       "      <th>9997</th>\n",
       "      <td>Android</td>\n",
       "      <td></td>\n",
       "      <td>[Mr. Mobile] Ticwatch Pro 3 Review: Wear OS Fi...</td>\n",
       "      <td>[Mr. Mobile] Ticwatch Pro 3 Review: Wear OS Fi...</td>\n",
       "    </tr>\n",
       "    <tr>\n",
       "      <th>9998</th>\n",
       "      <td>Android</td>\n",
       "      <td></td>\n",
       "      <td>Ticwatch Pro 3 Review: Wear OS Finally Works!</td>\n",
       "      <td>Ticwatch Pro 3 Review: Wear OS Finally Works!</td>\n",
       "    </tr>\n",
       "    <tr>\n",
       "      <th>9999</th>\n",
       "      <td>Android</td>\n",
       "      <td></td>\n",
       "      <td>[Mr. Mobile] Ticwatch Pro 3 Review: Wear OS Fi...</td>\n",
       "      <td>[Mr. Mobile] Ticwatch Pro 3 Review: Wear OS Fi...</td>\n",
       "    </tr>\n",
       "  </tbody>\n",
       "</table>\n",
       "<p>20000 rows × 4 columns</p>\n",
       "</div>"
      ],
      "text/plain": [
       "     subreddit selftext                                              title  \\\n",
       "0       iphone               What's App Slow on iPhone compared to Android   \n",
       "1       iphone                    Iphone X expansive offer (Email Submit).   \n",
       "2       iphone           Got my first job, saved up for over a year, an...   \n",
       "3       iphone                                      Get S&amp; P iPhone XS   \n",
       "4       iphone                               Iphone 12 mini standby issues   \n",
       "...        ...      ...                                                ...   \n",
       "9995   Android           [SELF] Recomendo - The app that gives tv shows...   \n",
       "9996   Android               Ticwatch Pro 3 Review: Wear OS Finally Works!   \n",
       "9997   Android           [Mr. Mobile] Ticwatch Pro 3 Review: Wear OS Fi...   \n",
       "9998   Android               Ticwatch Pro 3 Review: Wear OS Finally Works!   \n",
       "9999   Android           [Mr. Mobile] Ticwatch Pro 3 Review: Wear OS Fi...   \n",
       "\n",
       "                                                   text  \n",
       "0         What's App Slow on iPhone compared to Android  \n",
       "1              Iphone X expansive offer (Email Submit).  \n",
       "2     Got my first job, saved up for over a year, an...  \n",
       "3                                Get S&amp; P iPhone XS  \n",
       "4                         Iphone 12 mini standby issues  \n",
       "...                                                 ...  \n",
       "9995  [SELF] Recomendo - The app that gives tv shows...  \n",
       "9996      Ticwatch Pro 3 Review: Wear OS Finally Works!  \n",
       "9997  [Mr. Mobile] Ticwatch Pro 3 Review: Wear OS Fi...  \n",
       "9998      Ticwatch Pro 3 Review: Wear OS Finally Works!  \n",
       "9999  [Mr. Mobile] Ticwatch Pro 3 Review: Wear OS Fi...  \n",
       "\n",
       "[20000 rows x 4 columns]"
      ]
     },
     "execution_count": 22,
     "metadata": {},
     "output_type": "execute_result"
    }
   ],
   "source": [
    "df"
   ]
  },
  {
   "cell_type": "code",
   "execution_count": 23,
   "metadata": {},
   "outputs": [
    {
     "data": {
      "text/plain": [
       "                                                                                                                                                                                                                                                                                                                                                                                                                                                                                                                                                                                                                                                                                                                                                                                                                                                                                                                                                                                                                                                                                                                                                                                                                                                                                                                                                                                                                                                                                                                                                                                                                                                                                                                                                                                                        19791\n",
       "**Credits to the team at /r/PickAnAndroidForMe for compiling this information:**\\n\\n* Home - https://www.reddit.com/r/PickAnAndroidForMe/wiki/index\\n\\n* Smartphones 101 - https://www.reddit.com/r/PickAnAndroidForMe/wiki/smartphones101\\n\\n* Top Phones - https://www.reddit.com/r/PickAnAndroidForMe/wiki/phones\\n\\n\\n***        \\nNote 1. Join us at /r/MoronicMondayAndroid, a sub serving as a repository for our retired weekly threads. Just pick any thread and Ctrl-F your way to wisdom! \\n\\nNote 2. Join our IRC, and Telegram chat-rooms! [Please see our wiki for instructions.](https://www.reddit.com/r/Android/wiki/index#wiki_.2Fr.2Fandroid_chat_rooms)                                                                                                                                                                                                                                                                                                                                                                                                                                                                                                                                                                                                                                                                                                                                                                                                                                                                                                                                                                                                                                                                                                                                14\n",
       "Note 1. [Check out our apps wiki](https://www.reddit.com/r/Android/wiki/index#wiki_apps) for previous threads and apps curated by the reddit Android community!  \\n\\n[Download the official /r/Android App Store based on our wiki!](https://github.com/d4rken/reddit-android-appstore/releases)\\n\\nNote 2. Join us at **/r/MoronicMondayAndroid**, a sub serving as a repository for our retired weekly threads. Just pick any thread and Ctrl-F your way to wisdom! \\n\\nNote 2. Join our IRC, and Telegram chat-rooms! [Please see our wiki for instructions.](https://www.reddit.com/r/Android/wiki/index#wiki_.2Fr.2Fandroid_chat_rooms)\\n\\n\\n***  \\n\\nThis weekly Saturday thread is for:  \\n* App promotion,  \\n* App praise/sharing  \\n\\n***  \\n\\n**Rules:**  \\n\\n1) If you are a developer, you may promote your own app ONLY under the bolded, distinguished moderator comment. Users: if you think someone is trying to bypass this rule by promoting their app in the general thread, click the report button so we can take a look!                                                                                                                                                                                                                                                                                                                                                                                                                                                                                                                                                                                                                                                                                                                                                            13\n",
       "Welcome to the Daily Tech Support thread for /r/iphone. \\n\\nHave a question you need answered? Ask away! Please remember to adhere to our rules, which can be found in the sidebar. As usual, if you have a serious issue with the subreddit, please contact [the moderators directly.](https://www.reddit.com/message/compose?to=%2Fr%2Fiphone)\\n\\nPlease be informed that any questions about bypassing iCloud lock,  or anything similar that may infer that you are trying to get access to a locked iPhone, are no longer allowed and will be removed. Thank you.\\n\\nCheck our [Tech Support FAQ page](https://www.reddit.com/r/iphone/wiki/support-faq)\\n\\nJoin our Discord room for support:\\n\\n[Discord](https://discord.gg/iphone)\\n\\n**Note: Comments are sorted by /new for your convenience.**\\n\\nThis is the previous [archive](https://www.reddit.com/r/iphone/search?q=title%3A%22Daily+Tech+Support+Thread%22+author%3A%22AutoModerator%22&amp;restrict_sr=on&amp;sort=new&amp;t=all) of all previous \"Daily Tech Support\" threads. This is best viewed on a browser. If on mobile, type on the searchbar [title:\"Daily Tech Support Thread\" author:\"AutoModerator\"] (without the brackets, and including the quotation marks around the title and author.)   \\n\\nHere is a previous [archive](https://www.reddit.com/r/iphone/search?q=title%3A%22Weekly+Tech+Support+Thread%22+author%3A%22AutoModerator%22&amp;restrict_sr=on&amp;sort=new&amp;t=all) of all previous \"Weekly Tech Support\" threads, which has now changed to Daily Tech Support Thread. This is best viewed on a browser. If on mobile, type on the searchbar [title:\"Weekly Tech Support Thread\" author:\"AutoModerator\"] (without the brackets, and including the quotation marks around the title and author.)       13\n",
       "Note 1. Join our IRC, and Telegram chat-rooms! [Please see our wiki for instructions.](https://www.reddit.com/r/Android/wiki/index#wiki_.2Fr.2Fandroid_chat_rooms)\\n\\nThis weekly Sunday thread is for you to let off some steam and speak out about whatever complaint you might have about:  \\n\\n* Your device.  \\n\\n* Your carrier.  \\n\\n* Your device's manufacturer.  \\n\\n* An app  \\n\\n* Any other company\\n\\n***  \\n\\n**Rules**  \\n\\n1) Please do not target any individuals or try to name/shame any individual. If you hate Google/Samsung/HTC etc. for one thing that is fine, but do not be rude to an individual app developer.\\n\\n2) If you have a suggestion to solve another user's issue, please leave a comment but be sure it's constructive! We do not want any flame-wars.  \\n\\n3) Be respectful of other's opinions. Even if you feel that somebody is \"wrong\" you don't have to go out of your way to prove them wrong. Disagree politely, and move on.                                                                                                                                                                                                                                                                                                                                                                                                                                                                                                                                                                                                                                                                                                                                                                                                                              11\n",
       "                                                                                                                                                                                                                                                                                                                                                                                                                                                                                                                                                                                                                                                                                                                                                                                                                                                                                                                                                                                                                                                                                                                                                                                                                                                                                                                                                                                                                                                                                                                                                                                                                                                                                                                                                                                                        ...  \n",
       "https://www.reddit.com/r/SamsungPay/comments/kf90ri/samsung_pay_tiers_ending_in_2_weeks/\\n\\n\"As of 12/31/2020 at 11:59 PM PST, you will no longer earn Rewards points for Samsung Pay transactions and gift card purchases. This also means that Samsung Rewards Tiers no longer hold any benefits and we will be ending our Tier program for the time being. However, points can still be earned at Galaxy Store, Samsung.com, Shop app and with other Samsung services and applications.\"                                                                                                                                                                                                                                                                                                                                                                                                                                                                                                                                                                                                                                                                                                                                                                                                                                                                                                                                                                                                                                                                                                                                                                                                                                                                                                                 1\n",
       "VZW and Apple has kept us in the dark with the 'by the end of the year' update on the 5G and dual sim issue for new iphones? I have my sim with my number and an e-sim with my work number so I only get LTE - whats going on and why are these assholes mum about it - not a single post since october...                                                                                                                                                                                                                                                                                                                                                                                                                                                                                                                                                                                                                                                                                                                                                                                                                                                                                                                                                                                                                                                                                                                                                                                                                                                                                                                                                                                                                                                                                                  1\n",
       "Does the Otterbox Defenders case really protect the screen on my iPhone even if dropped onto some kind of uneven or jagged surface?                                                                                                                                                                                                                                                                                                                                                                                                                                                                                                                                                                                                                                                                                                                                                                                                                                                                                                                                                                                                                                                                                                                                                                                                                                                                                                                                                                                                                                                                                                                                                                                                                                                                         1\n",
       "I have two phones, an iPhone 6s Plus and a Samsung that I use as backup phone.\\n\\nSometimes I forget to charge my iPhone before I go to bed, when I wake up the phone is completely dead and takes over an hour to power back on when I plug it into the charger. Usually when I forget to charge at night it’s somewhere between 30 and 40% \\n\\nI don’t think it’s normal for my phone to take over an hours to power on whenever it dies, my Samsung would be dead for several days and it powers on as soon as I plug it to the charger.                                                                                                                                                                                                                                                                                                                                                                                                                                                                                                                                                                                                                                                                                                                                                                                                                                                                                                                                                                                                                                                                                                                                                                                                                                                                 1\n",
       "I’ve always had the saddle leather iPhone case... they have always held up (for me). I’m WFH (even pre-covid) so outside of the case going in and out of my pocket throughout the day the case really gets no use or wear to speak of. So when I purchased my new 12 Pro Max I of course immediately grabbed the leather case (shipped prior to receiving the phone). I’ve had the phone (in case) for 2.5 weeks and this is the wear I’m already experiencing... this is ridiculous. I don’t even have this much wear on previous Apple leather cases after years of use. You can tell the case is some very VERY thin leather (type-product) almost painted onto a plastic shell. This is a joke, never again. Be forewarned, it’s not worth it.\\n\\nhttps://i.imgur.com/DNgOsG7.jpg\\n\\nhttps://i.imgur.com/XK5CPq8.jpg                                                                                                                                                                                                                                                                                                                                                                                                                                                                                                                                                                                                                                                                                                                                                                                                                                                                                                                                                                                    1\n",
       "Name: selftext, Length: 141, dtype: int64"
      ]
     },
     "execution_count": 23,
     "metadata": {},
     "output_type": "execute_result"
    }
   ],
   "source": [
    "df['selftext'].value_counts()"
   ]
  },
  {
   "cell_type": "code",
   "execution_count": 24,
   "metadata": {},
   "outputs": [],
   "source": [
    "df = df.drop(columns=['selftext', 'title'])"
   ]
  },
  {
   "cell_type": "code",
   "execution_count": 25,
   "metadata": {},
   "outputs": [],
   "source": [
    "### Creating new binary classification column for iphone vs android and dropping old 'subreddit' column."
   ]
  },
  {
   "cell_type": "code",
   "execution_count": 26,
   "metadata": {},
   "outputs": [],
   "source": [
    "sub_list = []\n",
    "for value in df['subreddit']:\n",
    "    if value == 'iphone':\n",
    "        sub_list.append(1)\n",
    "    else:\n",
    "        sub_list.append(0)\n",
    "        \n",
    "df['iphone_subreddit'] = sub_list"
   ]
  },
  {
   "cell_type": "code",
   "execution_count": 27,
   "metadata": {},
   "outputs": [],
   "source": [
    "df = df.drop(columns='subreddit')"
   ]
  },
  {
   "cell_type": "code",
   "execution_count": 28,
   "metadata": {},
   "outputs": [
    {
     "data": {
      "text/plain": [
       "0        What's App Slow on iPhone compared to Android\n",
       "0    OnePlus broke Google Play on 7T Pro with lates...\n",
       "Name: text, dtype: object"
      ]
     },
     "execution_count": 28,
     "metadata": {},
     "output_type": "execute_result"
    }
   ],
   "source": [
    "df['text'][0]"
   ]
  },
  {
   "cell_type": "code",
   "execution_count": 29,
   "metadata": {},
   "outputs": [],
   "source": [
    "### resetting dataframe index"
   ]
  },
  {
   "cell_type": "code",
   "execution_count": 30,
   "metadata": {},
   "outputs": [],
   "source": [
    "df.index = range(20000)"
   ]
  },
  {
   "cell_type": "code",
   "execution_count": 31,
   "metadata": {},
   "outputs": [
    {
     "data": {
      "text/html": [
       "<div>\n",
       "<style scoped>\n",
       "    .dataframe tbody tr th:only-of-type {\n",
       "        vertical-align: middle;\n",
       "    }\n",
       "\n",
       "    .dataframe tbody tr th {\n",
       "        vertical-align: top;\n",
       "    }\n",
       "\n",
       "    .dataframe thead th {\n",
       "        text-align: right;\n",
       "    }\n",
       "</style>\n",
       "<table border=\"1\" class=\"dataframe\">\n",
       "  <thead>\n",
       "    <tr style=\"text-align: right;\">\n",
       "      <th></th>\n",
       "      <th>text</th>\n",
       "      <th>iphone_subreddit</th>\n",
       "    </tr>\n",
       "  </thead>\n",
       "  <tbody>\n",
       "    <tr>\n",
       "      <th>0</th>\n",
       "      <td>What's App Slow on iPhone compared to Android</td>\n",
       "      <td>1</td>\n",
       "    </tr>\n",
       "    <tr>\n",
       "      <th>1</th>\n",
       "      <td>Iphone X expansive offer (Email Submit).</td>\n",
       "      <td>1</td>\n",
       "    </tr>\n",
       "    <tr>\n",
       "      <th>2</th>\n",
       "      <td>Got my first job, saved up for over a year, an...</td>\n",
       "      <td>1</td>\n",
       "    </tr>\n",
       "    <tr>\n",
       "      <th>3</th>\n",
       "      <td>Get S&amp;amp; P iPhone XS</td>\n",
       "      <td>1</td>\n",
       "    </tr>\n",
       "    <tr>\n",
       "      <th>4</th>\n",
       "      <td>Iphone 12 mini standby issues</td>\n",
       "      <td>1</td>\n",
       "    </tr>\n",
       "    <tr>\n",
       "      <th>...</th>\n",
       "      <td>...</td>\n",
       "      <td>...</td>\n",
       "    </tr>\n",
       "    <tr>\n",
       "      <th>19995</th>\n",
       "      <td>[SELF] Recomendo - The app that gives tv shows...</td>\n",
       "      <td>0</td>\n",
       "    </tr>\n",
       "    <tr>\n",
       "      <th>19996</th>\n",
       "      <td>Ticwatch Pro 3 Review: Wear OS Finally Works!</td>\n",
       "      <td>0</td>\n",
       "    </tr>\n",
       "    <tr>\n",
       "      <th>19997</th>\n",
       "      <td>[Mr. Mobile] Ticwatch Pro 3 Review: Wear OS Fi...</td>\n",
       "      <td>0</td>\n",
       "    </tr>\n",
       "    <tr>\n",
       "      <th>19998</th>\n",
       "      <td>Ticwatch Pro 3 Review: Wear OS Finally Works!</td>\n",
       "      <td>0</td>\n",
       "    </tr>\n",
       "    <tr>\n",
       "      <th>19999</th>\n",
       "      <td>[Mr. Mobile] Ticwatch Pro 3 Review: Wear OS Fi...</td>\n",
       "      <td>0</td>\n",
       "    </tr>\n",
       "  </tbody>\n",
       "</table>\n",
       "<p>20000 rows × 2 columns</p>\n",
       "</div>"
      ],
      "text/plain": [
       "                                                    text  iphone_subreddit\n",
       "0          What's App Slow on iPhone compared to Android                 1\n",
       "1               Iphone X expansive offer (Email Submit).                 1\n",
       "2      Got my first job, saved up for over a year, an...                 1\n",
       "3                                 Get S&amp; P iPhone XS                 1\n",
       "4                          Iphone 12 mini standby issues                 1\n",
       "...                                                  ...               ...\n",
       "19995  [SELF] Recomendo - The app that gives tv shows...                 0\n",
       "19996      Ticwatch Pro 3 Review: Wear OS Finally Works!                 0\n",
       "19997  [Mr. Mobile] Ticwatch Pro 3 Review: Wear OS Fi...                 0\n",
       "19998      Ticwatch Pro 3 Review: Wear OS Finally Works!                 0\n",
       "19999  [Mr. Mobile] Ticwatch Pro 3 Review: Wear OS Fi...                 0\n",
       "\n",
       "[20000 rows x 2 columns]"
      ]
     },
     "execution_count": 31,
     "metadata": {},
     "output_type": "execute_result"
    }
   ],
   "source": [
    "df"
   ]
  },
  {
   "cell_type": "code",
   "execution_count": 32,
   "metadata": {},
   "outputs": [],
   "source": [
    "### Exporting dataframe for modeling/sentiment analysis"
   ]
  },
  {
   "cell_type": "code",
   "execution_count": 33,
   "metadata": {},
   "outputs": [],
   "source": [
    "df.to_csv('cleaned_df.csv')"
   ]
  }
 ],
 "metadata": {
  "kernelspec": {
   "display_name": "Python 3",
   "language": "python",
   "name": "python3"
  },
  "language_info": {
   "codemirror_mode": {
    "name": "ipython",
    "version": 3
   },
   "file_extension": ".py",
   "mimetype": "text/x-python",
   "name": "python",
   "nbconvert_exporter": "python",
   "pygments_lexer": "ipython3",
   "version": "3.8.5"
  }
 },
 "nbformat": 4,
 "nbformat_minor": 4
}
