{
 "cells": [
  {
   "cell_type": "code",
   "execution_count": 1,
   "metadata": {},
   "outputs": [],
   "source": [
    "import requests\n",
    "import pandas as pd\n",
    "import numpy as np\n",
    "import matplotlib.pyplot as plt\n",
    "import seaborn as sns\n",
    "import time"
   ]
  },
  {
   "cell_type": "code",
   "execution_count": 2,
   "metadata": {},
   "outputs": [],
   "source": [
    "iphone = pd.read_csv('iphone.csv')"
   ]
  },
  {
   "cell_type": "code",
   "execution_count": 3,
   "metadata": {},
   "outputs": [],
   "source": [
    "android = pd.read_csv('android.csv')"
   ]
  },
  {
   "cell_type": "code",
   "execution_count": 4,
   "metadata": {},
   "outputs": [
    {
     "data": {
      "text/html": [
       "<div>\n",
       "<style scoped>\n",
       "    .dataframe tbody tr th:only-of-type {\n",
       "        vertical-align: middle;\n",
       "    }\n",
       "\n",
       "    .dataframe tbody tr th {\n",
       "        vertical-align: top;\n",
       "    }\n",
       "\n",
       "    .dataframe thead th {\n",
       "        text-align: right;\n",
       "    }\n",
       "</style>\n",
       "<table border=\"1\" class=\"dataframe\">\n",
       "  <thead>\n",
       "    <tr style=\"text-align: right;\">\n",
       "      <th></th>\n",
       "      <th>Unnamed: 0</th>\n",
       "      <th>subreddit</th>\n",
       "      <th>selftext</th>\n",
       "      <th>title</th>\n",
       "    </tr>\n",
       "  </thead>\n",
       "  <tbody>\n",
       "    <tr>\n",
       "      <th>0</th>\n",
       "      <td>0</td>\n",
       "      <td>iphone</td>\n",
       "      <td>[removed]</td>\n",
       "      <td>Please help me understand this SIM lock scenario.</td>\n",
       "    </tr>\n",
       "    <tr>\n",
       "      <th>1</th>\n",
       "      <td>1</td>\n",
       "      <td>iphone</td>\n",
       "      <td>[removed]</td>\n",
       "      <td>What iPhone should I get for under $800?</td>\n",
       "    </tr>\n",
       "    <tr>\n",
       "      <th>2</th>\n",
       "      <td>2</td>\n",
       "      <td>iphone</td>\n",
       "      <td>[removed]</td>\n",
       "      <td>Spotlight Not Working</td>\n",
       "    </tr>\n",
       "    <tr>\n",
       "      <th>3</th>\n",
       "      <td>3</td>\n",
       "      <td>iphone</td>\n",
       "      <td>[removed]</td>\n",
       "      <td>Battery replacement</td>\n",
       "    </tr>\n",
       "    <tr>\n",
       "      <th>4</th>\n",
       "      <td>4</td>\n",
       "      <td>iphone</td>\n",
       "      <td>[removed]</td>\n",
       "      <td>I accidentally messaged two people at once in ...</td>\n",
       "    </tr>\n",
       "  </tbody>\n",
       "</table>\n",
       "</div>"
      ],
      "text/plain": [
       "   Unnamed: 0 subreddit   selftext  \\\n",
       "0           0    iphone  [removed]   \n",
       "1           1    iphone  [removed]   \n",
       "2           2    iphone  [removed]   \n",
       "3           3    iphone  [removed]   \n",
       "4           4    iphone  [removed]   \n",
       "\n",
       "                                               title  \n",
       "0  Please help me understand this SIM lock scenario.  \n",
       "1           What iPhone should I get for under $800?  \n",
       "2                              Spotlight Not Working  \n",
       "3                                Battery replacement  \n",
       "4  I accidentally messaged two people at once in ...  "
      ]
     },
     "execution_count": 4,
     "metadata": {},
     "output_type": "execute_result"
    }
   ],
   "source": [
    "iphone.head()"
   ]
  },
  {
   "cell_type": "code",
   "execution_count": 5,
   "metadata": {},
   "outputs": [
    {
     "data": {
      "text/html": [
       "<div>\n",
       "<style scoped>\n",
       "    .dataframe tbody tr th:only-of-type {\n",
       "        vertical-align: middle;\n",
       "    }\n",
       "\n",
       "    .dataframe tbody tr th {\n",
       "        vertical-align: top;\n",
       "    }\n",
       "\n",
       "    .dataframe thead th {\n",
       "        text-align: right;\n",
       "    }\n",
       "</style>\n",
       "<table border=\"1\" class=\"dataframe\">\n",
       "  <thead>\n",
       "    <tr style=\"text-align: right;\">\n",
       "      <th></th>\n",
       "      <th>Unnamed: 0</th>\n",
       "      <th>subreddit</th>\n",
       "      <th>selftext</th>\n",
       "      <th>title</th>\n",
       "    </tr>\n",
       "  </thead>\n",
       "  <tbody>\n",
       "    <tr>\n",
       "      <th>0</th>\n",
       "      <td>0</td>\n",
       "      <td>Android</td>\n",
       "      <td>NaN</td>\n",
       "      <td>Samsung Galaxy S21 Ultra vs Xiaomi Mi 11 / iQO...</td>\n",
       "    </tr>\n",
       "    <tr>\n",
       "      <th>1</th>\n",
       "      <td>1</td>\n",
       "      <td>Android</td>\n",
       "      <td>NaN</td>\n",
       "      <td>Watch this video very interesting</td>\n",
       "    </tr>\n",
       "    <tr>\n",
       "      <th>2</th>\n",
       "      <td>2</td>\n",
       "      <td>Android</td>\n",
       "      <td>[removed]</td>\n",
       "      <td>System update releases</td>\n",
       "    </tr>\n",
       "    <tr>\n",
       "      <th>3</th>\n",
       "      <td>3</td>\n",
       "      <td>Android</td>\n",
       "      <td>NaN</td>\n",
       "      <td>--__--</td>\n",
       "    </tr>\n",
       "    <tr>\n",
       "      <th>4</th>\n",
       "      <td>4</td>\n",
       "      <td>Android</td>\n",
       "      <td>[removed]</td>\n",
       "      <td>Calling all S20FE 5G users</td>\n",
       "    </tr>\n",
       "  </tbody>\n",
       "</table>\n",
       "</div>"
      ],
      "text/plain": [
       "   Unnamed: 0 subreddit   selftext  \\\n",
       "0           0   Android        NaN   \n",
       "1           1   Android        NaN   \n",
       "2           2   Android  [removed]   \n",
       "3           3   Android        NaN   \n",
       "4           4   Android  [removed]   \n",
       "\n",
       "                                               title  \n",
       "0  Samsung Galaxy S21 Ultra vs Xiaomi Mi 11 / iQO...  \n",
       "1                  Watch this video very interesting  \n",
       "2                             System update releases  \n",
       "3                                             --__--  \n",
       "4                         Calling all S20FE 5G users  "
      ]
     },
     "execution_count": 5,
     "metadata": {},
     "output_type": "execute_result"
    }
   ],
   "source": [
    "android.head()"
   ]
  },
  {
   "cell_type": "code",
   "execution_count": 6,
   "metadata": {},
   "outputs": [],
   "source": [
    "df = pd.concat([iphone, android])"
   ]
  },
  {
   "cell_type": "code",
   "execution_count": 7,
   "metadata": {},
   "outputs": [
    {
     "data": {
      "text/html": [
       "<div>\n",
       "<style scoped>\n",
       "    .dataframe tbody tr th:only-of-type {\n",
       "        vertical-align: middle;\n",
       "    }\n",
       "\n",
       "    .dataframe tbody tr th {\n",
       "        vertical-align: top;\n",
       "    }\n",
       "\n",
       "    .dataframe thead th {\n",
       "        text-align: right;\n",
       "    }\n",
       "</style>\n",
       "<table border=\"1\" class=\"dataframe\">\n",
       "  <thead>\n",
       "    <tr style=\"text-align: right;\">\n",
       "      <th></th>\n",
       "      <th>Unnamed: 0</th>\n",
       "      <th>subreddit</th>\n",
       "      <th>selftext</th>\n",
       "      <th>title</th>\n",
       "    </tr>\n",
       "  </thead>\n",
       "  <tbody>\n",
       "    <tr>\n",
       "      <th>0</th>\n",
       "      <td>0</td>\n",
       "      <td>iphone</td>\n",
       "      <td>[removed]</td>\n",
       "      <td>Please help me understand this SIM lock scenario.</td>\n",
       "    </tr>\n",
       "    <tr>\n",
       "      <th>1</th>\n",
       "      <td>1</td>\n",
       "      <td>iphone</td>\n",
       "      <td>[removed]</td>\n",
       "      <td>What iPhone should I get for under $800?</td>\n",
       "    </tr>\n",
       "    <tr>\n",
       "      <th>2</th>\n",
       "      <td>2</td>\n",
       "      <td>iphone</td>\n",
       "      <td>[removed]</td>\n",
       "      <td>Spotlight Not Working</td>\n",
       "    </tr>\n",
       "    <tr>\n",
       "      <th>3</th>\n",
       "      <td>3</td>\n",
       "      <td>iphone</td>\n",
       "      <td>[removed]</td>\n",
       "      <td>Battery replacement</td>\n",
       "    </tr>\n",
       "    <tr>\n",
       "      <th>4</th>\n",
       "      <td>4</td>\n",
       "      <td>iphone</td>\n",
       "      <td>[removed]</td>\n",
       "      <td>I accidentally messaged two people at once in ...</td>\n",
       "    </tr>\n",
       "  </tbody>\n",
       "</table>\n",
       "</div>"
      ],
      "text/plain": [
       "   Unnamed: 0 subreddit   selftext  \\\n",
       "0           0    iphone  [removed]   \n",
       "1           1    iphone  [removed]   \n",
       "2           2    iphone  [removed]   \n",
       "3           3    iphone  [removed]   \n",
       "4           4    iphone  [removed]   \n",
       "\n",
       "                                               title  \n",
       "0  Please help me understand this SIM lock scenario.  \n",
       "1           What iPhone should I get for under $800?  \n",
       "2                              Spotlight Not Working  \n",
       "3                                Battery replacement  \n",
       "4  I accidentally messaged two people at once in ...  "
      ]
     },
     "execution_count": 7,
     "metadata": {},
     "output_type": "execute_result"
    }
   ],
   "source": [
    "df.head()"
   ]
  },
  {
   "cell_type": "code",
   "execution_count": 8,
   "metadata": {},
   "outputs": [],
   "source": [
    "df = df.drop(columns='Unnamed: 0')"
   ]
  },
  {
   "cell_type": "code",
   "execution_count": 9,
   "metadata": {},
   "outputs": [
    {
     "data": {
      "text/html": [
       "<div>\n",
       "<style scoped>\n",
       "    .dataframe tbody tr th:only-of-type {\n",
       "        vertical-align: middle;\n",
       "    }\n",
       "\n",
       "    .dataframe tbody tr th {\n",
       "        vertical-align: top;\n",
       "    }\n",
       "\n",
       "    .dataframe thead th {\n",
       "        text-align: right;\n",
       "    }\n",
       "</style>\n",
       "<table border=\"1\" class=\"dataframe\">\n",
       "  <thead>\n",
       "    <tr style=\"text-align: right;\">\n",
       "      <th></th>\n",
       "      <th>subreddit</th>\n",
       "      <th>selftext</th>\n",
       "      <th>title</th>\n",
       "    </tr>\n",
       "  </thead>\n",
       "  <tbody>\n",
       "    <tr>\n",
       "      <th>0</th>\n",
       "      <td>iphone</td>\n",
       "      <td>[removed]</td>\n",
       "      <td>Please help me understand this SIM lock scenario.</td>\n",
       "    </tr>\n",
       "    <tr>\n",
       "      <th>1</th>\n",
       "      <td>iphone</td>\n",
       "      <td>[removed]</td>\n",
       "      <td>What iPhone should I get for under $800?</td>\n",
       "    </tr>\n",
       "    <tr>\n",
       "      <th>2</th>\n",
       "      <td>iphone</td>\n",
       "      <td>[removed]</td>\n",
       "      <td>Spotlight Not Working</td>\n",
       "    </tr>\n",
       "    <tr>\n",
       "      <th>3</th>\n",
       "      <td>iphone</td>\n",
       "      <td>[removed]</td>\n",
       "      <td>Battery replacement</td>\n",
       "    </tr>\n",
       "    <tr>\n",
       "      <th>4</th>\n",
       "      <td>iphone</td>\n",
       "      <td>[removed]</td>\n",
       "      <td>I accidentally messaged two people at once in ...</td>\n",
       "    </tr>\n",
       "  </tbody>\n",
       "</table>\n",
       "</div>"
      ],
      "text/plain": [
       "  subreddit   selftext                                              title\n",
       "0    iphone  [removed]  Please help me understand this SIM lock scenario.\n",
       "1    iphone  [removed]           What iPhone should I get for under $800?\n",
       "2    iphone  [removed]                              Spotlight Not Working\n",
       "3    iphone  [removed]                                Battery replacement\n",
       "4    iphone  [removed]  I accidentally messaged two people at once in ..."
      ]
     },
     "execution_count": 9,
     "metadata": {},
     "output_type": "execute_result"
    }
   ],
   "source": [
    "df.head()"
   ]
  },
  {
   "cell_type": "code",
   "execution_count": 10,
   "metadata": {},
   "outputs": [
    {
     "data": {
      "text/plain": [
       "[removed]                                                                                                                                                                                                                                                                                                                                                                                                                                                                                                                                                                                                                                                                                                                                                                                                                                                                                                                                                                                                                                          13182\n",
       "[deleted]                                                                                                                                                                                                                                                                                                                                                                                                                                                                                                                                                                                                                                                                                                                                                                                                                                                                                                                                                                                                                                            209\n",
       "Note 1. [Check out our apps wiki](https://www.reddit.com/r/Android/wiki/index#wiki_apps) for previous threads and apps curated by the reddit Android community!  \\n\\n[Download the official /r/Android App Store based on our wiki!](https://github.com/d4rken/reddit-android-appstore/releases)\\n\\nNote 2. Join us at **/r/MoronicMondayAndroid**, a sub serving as a repository for our retired weekly threads. Just pick any thread and Ctrl-F your way to wisdom! \\n\\nNote 2. Join our IRC, and Telegram chat-rooms! [Please see our wiki for instructions.](https://www.reddit.com/r/Android/wiki/index#wiki_.2Fr.2Fandroid_chat_rooms)\\n\\n\\n***  \\n\\nThis weekly Saturday thread is for:  \\n* App promotion,  \\n* App praise/sharing  \\n\\n***  \\n\\n**Rules:**  \\n\\n1) If you are a developer, you may promote your own app ONLY under the bolded, distinguished moderator comment. Users: if you think someone is trying to bypass this rule by promoting their app in the general thread, click the report button so we can take a look!       13\n",
       "Note 1. Join us at /r/MoronicMondayAndroid, a sub serving as a repository for our retired weekly threads. Just pick any thread and Ctrl-F your way to wisdom! \\n\\nNote 2. Join our IRC, and Telegram chat-rooms! [Please see our wiki for instructions.](https://www.reddit.com/r/Android/wiki/index#wiki_.2Fr.2Fandroid_chat_rooms)                                                                                                                                                                                                                                                                                                                                                                                                                                                                                                                                                                                                                                                                                                                  13\n",
       "Note 1. Join our IRC, and Telegram chat-rooms! [Please see our wiki for instructions.](https://www.reddit.com/r/Android/wiki/index#wiki_.2Fr.2Fandroid_chat_rooms)\\n\\nThis weekly Sunday thread is for you to let off some steam and speak out about whatever complaint you might have about:  \\n\\n* Your device.  \\n\\n* Your carrier.  \\n\\n* Your device's manufacturer.  \\n\\n* An app  \\n\\n* Any other company\\n\\n***  \\n\\n**Rules**  \\n\\n1) Please do not target any individuals or try to name/shame any individual. If you hate Google/Samsung/HTC etc. for one thing that is fine, but do not be rude to an individual app developer.\\n\\n2) If you have a suggestion to solve another user's issue, please leave a comment but be sure it's constructive! We do not want any flame-wars.  \\n\\n3) Be respectful of other's opinions. Even if you feel that somebody is \"wrong\" you don't have to go out of your way to prove them wrong. Disagree politely, and move on.                                                                         13\n",
       "                                                                                                                                                                                                                                                                                                                                                                                                                                                                                                                                                                                                                                                                                                                                                                                                                                                                                                                                                                                                                                                   ...  \n",
       "https://lineageos.org/                                                                                                                                                                                                                                                                                                                                                                                                                                                                                                                                                                                                                                                                                                                                                                                                                                                                                                                                                                                                                                 1\n",
       "Samsung support told me that all their phones only allow recording 4K 60fps for up to 10 minutes. The  Google Pixel 5 which I have shuts down after 5-20 minutes for 4K 60fps and after 45 minutes for 1080p 60fps. Seems other Android phones have the same problems recording 4K. But it seems that Apple have a better system on a chip than Android phones and have better cooling.\\n\\nSo can a 4K 60fps capable iPhone record 4K 60fps for 1 hour or more without the recording stopping itself due to overheating? I want to know for recording things like exchanging presents on Christmas day, etc. Do you get 60fps throughout the recording or are some frames dropped?\\n\\nWould like to know for the 12 series of iPhones and older series.                                                                                                                                                                                                                                                                                                1\n",
       "I have two phones, an iPhone 6s Plus and a Samsung that I use as backup phone.\\n\\nSometimes I forget to charge my iPhone before I go to bed, when I wake up the phone is completely dead and takes over an hour to power back on when I plug it into the charger. Usually when I forget to charge at night it’s somewhere between 30 and 40% \\n\\nI don’t think it’s normal for my phone to take over an hours to power on whenever it dies, my Samsung would be dead for several days and it powers on as soon as I plug it to the charger.                                                                                                                                                                                                                                                                                                                                                                                                                                                                                                            1\n",
       "I’ve always had the saddle leather iPhone case... they have always held up (for me). I’m WFH (even pre-covid) so outside of the case going in and out of my pocket throughout the day the case really gets no use or wear to speak of. So when I purchased my new 12 Pro Max I of course immediately grabbed the leather case (shipped prior to receiving the phone). I’ve had the phone (in case) for 2.5 weeks and this is the wear I’m already experiencing... this is ridiculous. I don’t even have this much wear on previous Apple leather cases after years of use. You can tell the case is some very VERY thin leather (type-product) almost painted onto a plastic shell. This is a joke, never again. Be forewarned, it’s not worth it.\\n\\nhttps://i.imgur.com/DNgOsG7.jpg\\n\\nhttps://i.imgur.com/XK5CPq8.jpg                                                                                                                                                                                                                               1\n",
       "We are delighted to announce that Mishaal Rahman will be joining us for an AMA on the 20th of November. Mishaal is the [editor-in-chief of XDA-Developers](https://www.xda-developers.com/author/mishaalrahman/). He has done a couple of [AMAs which have focussed on specific devices](https://www.reddit.com/r/Android/search?q=AMA+author%3Amishaalrahman&amp;restrict_sr=on&amp;sort=relevance&amp;t=all) in the past and is an active contributor to this subreddit. The AMA will begin around 5 pm UK/12 pm EST/9 am PST/6 pm CEST.                                                                                                                                                                                                                                                                                                                                                                                                                                                                                                             1\n",
       "Name: selftext, Length: 149, dtype: int64"
      ]
     },
     "execution_count": 10,
     "metadata": {},
     "output_type": "execute_result"
    }
   ],
   "source": [
    "df['selftext'].value_counts()"
   ]
  },
  {
   "cell_type": "code",
   "execution_count": 11,
   "metadata": {},
   "outputs": [
    {
     "data": {
      "text/plain": [
       "subreddit       0\n",
       "selftext     6397\n",
       "title           0\n",
       "dtype: int64"
      ]
     },
     "execution_count": 11,
     "metadata": {},
     "output_type": "execute_result"
    }
   ],
   "source": [
    "df.isnull().sum()"
   ]
  },
  {
   "cell_type": "code",
   "execution_count": 12,
   "metadata": {},
   "outputs": [],
   "source": [
    "df = df.fillna('')"
   ]
  },
  {
   "cell_type": "code",
   "execution_count": 13,
   "metadata": {},
   "outputs": [
    {
     "data": {
      "text/plain": [
       "subreddit    0\n",
       "selftext     0\n",
       "title        0\n",
       "dtype: int64"
      ]
     },
     "execution_count": 13,
     "metadata": {},
     "output_type": "execute_result"
    }
   ],
   "source": [
    "df.isnull().sum()"
   ]
  },
  {
   "cell_type": "code",
   "execution_count": 14,
   "metadata": {},
   "outputs": [],
   "source": [
    "text_list = []\n",
    "for value in df['selftext']:\n",
    "    if value == '[removed]':\n",
    "        text_list.append('')\n",
    "    elif value == '[deleted]':\n",
    "        text_list.append('')\n",
    "    elif value == '':\n",
    "        text_list.append('')\n",
    "    else:\n",
    "        text_list.append(value)\n",
    "        \n",
    "df['selftext'] = text_list"
   ]
  },
  {
   "cell_type": "code",
   "execution_count": 15,
   "metadata": {},
   "outputs": [],
   "source": [
    "df['text'] = df['title'] + df['selftext'] "
   ]
  },
  {
   "cell_type": "code",
   "execution_count": 25,
   "metadata": {},
   "outputs": [
    {
     "data": {
      "text/html": [
       "<div>\n",
       "<style scoped>\n",
       "    .dataframe tbody tr th:only-of-type {\n",
       "        vertical-align: middle;\n",
       "    }\n",
       "\n",
       "    .dataframe tbody tr th {\n",
       "        vertical-align: top;\n",
       "    }\n",
       "\n",
       "    .dataframe thead th {\n",
       "        text-align: right;\n",
       "    }\n",
       "</style>\n",
       "<table border=\"1\" class=\"dataframe\">\n",
       "  <thead>\n",
       "    <tr style=\"text-align: right;\">\n",
       "      <th></th>\n",
       "      <th>subreddit</th>\n",
       "      <th>text</th>\n",
       "    </tr>\n",
       "  </thead>\n",
       "  <tbody>\n",
       "    <tr>\n",
       "      <th>0</th>\n",
       "      <td>iphone</td>\n",
       "      <td>Please help me understand this SIM lock scenario.</td>\n",
       "    </tr>\n",
       "    <tr>\n",
       "      <th>1</th>\n",
       "      <td>iphone</td>\n",
       "      <td>What iPhone should I get for under $800?</td>\n",
       "    </tr>\n",
       "    <tr>\n",
       "      <th>2</th>\n",
       "      <td>iphone</td>\n",
       "      <td>Spotlight Not Working</td>\n",
       "    </tr>\n",
       "    <tr>\n",
       "      <th>3</th>\n",
       "      <td>iphone</td>\n",
       "      <td>Battery replacement</td>\n",
       "    </tr>\n",
       "    <tr>\n",
       "      <th>4</th>\n",
       "      <td>iphone</td>\n",
       "      <td>I accidentally messaged two people at once in ...</td>\n",
       "    </tr>\n",
       "    <tr>\n",
       "      <th>...</th>\n",
       "      <td>...</td>\n",
       "      <td>...</td>\n",
       "    </tr>\n",
       "    <tr>\n",
       "      <th>9995</th>\n",
       "      <td>Android</td>\n",
       "      <td>Vivo IQoo U1 Price In India November 2020, Rea...</td>\n",
       "    </tr>\n",
       "    <tr>\n",
       "      <th>9996</th>\n",
       "      <td>Android</td>\n",
       "      <td>Got a phone from my dad that needs HELP!</td>\n",
       "    </tr>\n",
       "    <tr>\n",
       "      <th>9997</th>\n",
       "      <td>Android</td>\n",
       "      <td>Mine Bitcoin on the go Mining on mobile device...</td>\n",
       "    </tr>\n",
       "    <tr>\n",
       "      <th>9998</th>\n",
       "      <td>Android</td>\n",
       "      <td>Razr 5G</td>\n",
       "    </tr>\n",
       "    <tr>\n",
       "      <th>9999</th>\n",
       "      <td>Android</td>\n",
       "      <td>Android One makes the Nokia 5.3 stand out in I...</td>\n",
       "    </tr>\n",
       "  </tbody>\n",
       "</table>\n",
       "<p>20000 rows × 2 columns</p>\n",
       "</div>"
      ],
      "text/plain": [
       "     subreddit                                               text\n",
       "0       iphone  Please help me understand this SIM lock scenario.\n",
       "1       iphone           What iPhone should I get for under $800?\n",
       "2       iphone                              Spotlight Not Working\n",
       "3       iphone                                Battery replacement\n",
       "4       iphone  I accidentally messaged two people at once in ...\n",
       "...        ...                                                ...\n",
       "9995   Android  Vivo IQoo U1 Price In India November 2020, Rea...\n",
       "9996   Android           Got a phone from my dad that needs HELP!\n",
       "9997   Android  Mine Bitcoin on the go Mining on mobile device...\n",
       "9998   Android                                            Razr 5G\n",
       "9999   Android  Android One makes the Nokia 5.3 stand out in I...\n",
       "\n",
       "[20000 rows x 2 columns]"
      ]
     },
     "execution_count": 25,
     "metadata": {},
     "output_type": "execute_result"
    }
   ],
   "source": [
    "df"
   ]
  },
  {
   "cell_type": "code",
   "execution_count": 17,
   "metadata": {},
   "outputs": [
    {
     "data": {
      "text/plain": [
       "                                                                                                                                                                                                                                                                                                                                                                                                                                                                                                                                                                                                                                                                                                                                                                                                                                                                                                                                                                                                                                                   19788\n",
       "Note 1. Join us at /r/MoronicMondayAndroid, a sub serving as a repository for our retired weekly threads. Just pick any thread and Ctrl-F your way to wisdom! \\n\\nNote 2. Join our IRC, and Telegram chat-rooms! [Please see our wiki for instructions.](https://www.reddit.com/r/Android/wiki/index#wiki_.2Fr.2Fandroid_chat_rooms)                                                                                                                                                                                                                                                                                                                                                                                                                                                                                                                                                                                                                                                                                                                  13\n",
       "Note 1. Join our IRC, and Telegram chat-rooms! [Please see our wiki for instructions.](https://www.reddit.com/r/Android/wiki/index#wiki_.2Fr.2Fandroid_chat_rooms)\\n\\nThis weekly Sunday thread is for you to let off some steam and speak out about whatever complaint you might have about:  \\n\\n* Your device.  \\n\\n* Your carrier.  \\n\\n* Your device's manufacturer.  \\n\\n* An app  \\n\\n* Any other company\\n\\n***  \\n\\n**Rules**  \\n\\n1) Please do not target any individuals or try to name/shame any individual. If you hate Google/Samsung/HTC etc. for one thing that is fine, but do not be rude to an individual app developer.\\n\\n2) If you have a suggestion to solve another user's issue, please leave a comment but be sure it's constructive! We do not want any flame-wars.  \\n\\n3) Be respectful of other's opinions. Even if you feel that somebody is \"wrong\" you don't have to go out of your way to prove them wrong. Disagree politely, and move on.                                                                         13\n",
       "Note 1. [Check out our apps wiki](https://www.reddit.com/r/Android/wiki/index#wiki_apps) for previous threads and apps curated by the reddit Android community!  \\n\\n[Download the official /r/Android App Store based on our wiki!](https://github.com/d4rken/reddit-android-appstore/releases)\\n\\nNote 2. Join us at **/r/MoronicMondayAndroid**, a sub serving as a repository for our retired weekly threads. Just pick any thread and Ctrl-F your way to wisdom! \\n\\nNote 2. Join our IRC, and Telegram chat-rooms! [Please see our wiki for instructions.](https://www.reddit.com/r/Android/wiki/index#wiki_.2Fr.2Fandroid_chat_rooms)\\n\\n\\n***  \\n\\nThis weekly Saturday thread is for:  \\n* App promotion,  \\n* App praise/sharing  \\n\\n***  \\n\\n**Rules:**  \\n\\n1) If you are a developer, you may promote your own app ONLY under the bolded, distinguished moderator comment. Users: if you think someone is trying to bypass this rule by promoting their app in the general thread, click the report button so we can take a look!       13\n",
       "**Credits to the team at /r/PickAnAndroidForMe for compiling this information:**\\n\\n* Home - https://www.reddit.com/r/PickAnAndroidForMe/wiki/index\\n\\n* Smartphones 101 - https://www.reddit.com/r/PickAnAndroidForMe/wiki/smartphones101\\n\\n* Top Phones - https://www.reddit.com/r/PickAnAndroidForMe/wiki/phones\\n\\n\\n***        \\nNote 1. Join us at /r/MoronicMondayAndroid, a sub serving as a repository for our retired weekly threads. Just pick any thread and Ctrl-F your way to wisdom! \\n\\nNote 2. Join our IRC, and Telegram chat-rooms! [Please see our wiki for instructions.](https://www.reddit.com/r/Android/wiki/index#wiki_.2Fr.2Fandroid_chat_rooms)                                                                                                                                                                                                                                                                                                                                                                           12\n",
       "                                                                                                                                                                                                                                                                                                                                                                                                                                                                                                                                                                                                                                                                                                                                                                                                                                                                                                                                                                                                                                                   ...  \n",
       "https://lineageos.org/                                                                                                                                                                                                                                                                                                                                                                                                                                                                                                                                                                                                                                                                                                                                                                                                                                                                                                                                                                                                                                 1\n",
       "Samsung support told me that all their phones only allow recording 4K 60fps for up to 10 minutes. The  Google Pixel 5 which I have shuts down after 5-20 minutes for 4K 60fps and after 45 minutes for 1080p 60fps. Seems other Android phones have the same problems recording 4K. But it seems that Apple have a better system on a chip than Android phones and have better cooling.\\n\\nSo can a 4K 60fps capable iPhone record 4K 60fps for 1 hour or more without the recording stopping itself due to overheating? I want to know for recording things like exchanging presents on Christmas day, etc. Do you get 60fps throughout the recording or are some frames dropped?\\n\\nWould like to know for the 12 series of iPhones and older series.                                                                                                                                                                                                                                                                                                1\n",
       "I have two phones, an iPhone 6s Plus and a Samsung that I use as backup phone.\\n\\nSometimes I forget to charge my iPhone before I go to bed, when I wake up the phone is completely dead and takes over an hour to power back on when I plug it into the charger. Usually when I forget to charge at night it’s somewhere between 30 and 40% \\n\\nI don’t think it’s normal for my phone to take over an hours to power on whenever it dies, my Samsung would be dead for several days and it powers on as soon as I plug it to the charger.                                                                                                                                                                                                                                                                                                                                                                                                                                                                                                            1\n",
       "I’ve always had the saddle leather iPhone case... they have always held up (for me). I’m WFH (even pre-covid) so outside of the case going in and out of my pocket throughout the day the case really gets no use or wear to speak of. So when I purchased my new 12 Pro Max I of course immediately grabbed the leather case (shipped prior to receiving the phone). I’ve had the phone (in case) for 2.5 weeks and this is the wear I’m already experiencing... this is ridiculous. I don’t even have this much wear on previous Apple leather cases after years of use. You can tell the case is some very VERY thin leather (type-product) almost painted onto a plastic shell. This is a joke, never again. Be forewarned, it’s not worth it.\\n\\nhttps://i.imgur.com/DNgOsG7.jpg\\n\\nhttps://i.imgur.com/XK5CPq8.jpg                                                                                                                                                                                                                               1\n",
       "Staying at a hotel, have my airpods connected or my phone and then the audio just began to stutter, and then fixed itself which it never does. went to bluetooth and saw a phone connected or mine, Galaxy A70.  i’m on an iphone C and for some reason a random phone keeps connecting to mine via bluetooth, no ‘i’ button so i gotta turn bluetooth off and on. keeps happening and there isn’t a confirmation message when it connects. it’s just a random connection and it’s happened on my cousins phone too, she has an 11 and “Accessory” or “Accessories” (can’t remember which one) keeps randomly connecting. doubt it’s a headset or something, i think someone just renamed their device. apple support didn’t do much and i’m wondering if this is normal or if it’s like bluetooth surveillance by some random person                                                                                                                                                                                                                  1\n",
       "Name: selftext, Length: 148, dtype: int64"
      ]
     },
     "execution_count": 17,
     "metadata": {},
     "output_type": "execute_result"
    }
   ],
   "source": [
    "df['selftext'].value_counts()"
   ]
  },
  {
   "cell_type": "code",
   "execution_count": 18,
   "metadata": {},
   "outputs": [],
   "source": [
    "df = df.drop(columns=['selftext', 'title'])"
   ]
  },
  {
   "cell_type": "code",
   "execution_count": 20,
   "metadata": {},
   "outputs": [
    {
     "data": {
      "text/plain": [
       "Int64Index([   0,    1,    2,    3,    4,    5,    6,    7,    8,    9,\n",
       "            ...\n",
       "            9990, 9991, 9992, 9993, 9994, 9995, 9996, 9997, 9998, 9999],\n",
       "           dtype='int64', length=20000)"
      ]
     },
     "execution_count": 20,
     "metadata": {},
     "output_type": "execute_result"
    }
   ],
   "source": [
    "df.index"
   ]
  },
  {
   "cell_type": "code",
   "execution_count": 27,
   "metadata": {},
   "outputs": [],
   "source": [
    "sub_list = []\n",
    "for value in df['subreddit']:\n",
    "    if value == 'iphone':\n",
    "        sub_list.append(1)\n",
    "    else:\n",
    "        sub_list.append(0)\n",
    "        \n",
    "df['iphone_subreddit'] = sub_list"
   ]
  },
  {
   "cell_type": "code",
   "execution_count": 29,
   "metadata": {},
   "outputs": [],
   "source": [
    "df = df.drop(columns='subreddit')"
   ]
  },
  {
   "cell_type": "code",
   "execution_count": 31,
   "metadata": {},
   "outputs": [
    {
     "data": {
      "text/plain": [
       "0    Please help me understand this SIM lock scenario.\n",
       "0    Samsung Galaxy S21 Ultra vs Xiaomi Mi 11 / iQO...\n",
       "Name: text, dtype: object"
      ]
     },
     "execution_count": 31,
     "metadata": {},
     "output_type": "execute_result"
    }
   ],
   "source": [
    "df['text'][0]"
   ]
  },
  {
   "cell_type": "code",
   "execution_count": 39,
   "metadata": {},
   "outputs": [],
   "source": [
    "df.index = range(20000)"
   ]
  },
  {
   "cell_type": "code",
   "execution_count": 40,
   "metadata": {},
   "outputs": [
    {
     "data": {
      "text/html": [
       "<div>\n",
       "<style scoped>\n",
       "    .dataframe tbody tr th:only-of-type {\n",
       "        vertical-align: middle;\n",
       "    }\n",
       "\n",
       "    .dataframe tbody tr th {\n",
       "        vertical-align: top;\n",
       "    }\n",
       "\n",
       "    .dataframe thead th {\n",
       "        text-align: right;\n",
       "    }\n",
       "</style>\n",
       "<table border=\"1\" class=\"dataframe\">\n",
       "  <thead>\n",
       "    <tr style=\"text-align: right;\">\n",
       "      <th></th>\n",
       "      <th>text</th>\n",
       "      <th>iphone_subreddit</th>\n",
       "    </tr>\n",
       "  </thead>\n",
       "  <tbody>\n",
       "    <tr>\n",
       "      <th>0</th>\n",
       "      <td>Please help me understand this SIM lock scenario.</td>\n",
       "      <td>1</td>\n",
       "    </tr>\n",
       "    <tr>\n",
       "      <th>1</th>\n",
       "      <td>What iPhone should I get for under $800?</td>\n",
       "      <td>1</td>\n",
       "    </tr>\n",
       "    <tr>\n",
       "      <th>2</th>\n",
       "      <td>Spotlight Not Working</td>\n",
       "      <td>1</td>\n",
       "    </tr>\n",
       "    <tr>\n",
       "      <th>3</th>\n",
       "      <td>Battery replacement</td>\n",
       "      <td>1</td>\n",
       "    </tr>\n",
       "    <tr>\n",
       "      <th>4</th>\n",
       "      <td>I accidentally messaged two people at once in ...</td>\n",
       "      <td>1</td>\n",
       "    </tr>\n",
       "    <tr>\n",
       "      <th>...</th>\n",
       "      <td>...</td>\n",
       "      <td>...</td>\n",
       "    </tr>\n",
       "    <tr>\n",
       "      <th>19995</th>\n",
       "      <td>Vivo IQoo U1 Price In India November 2020, Rea...</td>\n",
       "      <td>0</td>\n",
       "    </tr>\n",
       "    <tr>\n",
       "      <th>19996</th>\n",
       "      <td>Got a phone from my dad that needs HELP!</td>\n",
       "      <td>0</td>\n",
       "    </tr>\n",
       "    <tr>\n",
       "      <th>19997</th>\n",
       "      <td>Mine Bitcoin on the go Mining on mobile device...</td>\n",
       "      <td>0</td>\n",
       "    </tr>\n",
       "    <tr>\n",
       "      <th>19998</th>\n",
       "      <td>Razr 5G</td>\n",
       "      <td>0</td>\n",
       "    </tr>\n",
       "    <tr>\n",
       "      <th>19999</th>\n",
       "      <td>Android One makes the Nokia 5.3 stand out in I...</td>\n",
       "      <td>0</td>\n",
       "    </tr>\n",
       "  </tbody>\n",
       "</table>\n",
       "<p>20000 rows × 2 columns</p>\n",
       "</div>"
      ],
      "text/plain": [
       "                                                    text  iphone_subreddit\n",
       "0      Please help me understand this SIM lock scenario.                 1\n",
       "1               What iPhone should I get for under $800?                 1\n",
       "2                                  Spotlight Not Working                 1\n",
       "3                                    Battery replacement                 1\n",
       "4      I accidentally messaged two people at once in ...                 1\n",
       "...                                                  ...               ...\n",
       "19995  Vivo IQoo U1 Price In India November 2020, Rea...                 0\n",
       "19996           Got a phone from my dad that needs HELP!                 0\n",
       "19997  Mine Bitcoin on the go Mining on mobile device...                 0\n",
       "19998                                            Razr 5G                 0\n",
       "19999  Android One makes the Nokia 5.3 stand out in I...                 0\n",
       "\n",
       "[20000 rows x 2 columns]"
      ]
     },
     "execution_count": 40,
     "metadata": {},
     "output_type": "execute_result"
    }
   ],
   "source": [
    "df"
   ]
  },
  {
   "cell_type": "code",
   "execution_count": 41,
   "metadata": {},
   "outputs": [],
   "source": [
    "df.to_csv('cleaned_df.csv')"
   ]
  }
 ],
 "metadata": {
  "kernelspec": {
   "display_name": "Python 3",
   "language": "python",
   "name": "python3"
  },
  "language_info": {
   "codemirror_mode": {
    "name": "ipython",
    "version": 3
   },
   "file_extension": ".py",
   "mimetype": "text/x-python",
   "name": "python",
   "nbconvert_exporter": "python",
   "pygments_lexer": "ipython3",
   "version": "3.8.5"
  }
 },
 "nbformat": 4,
 "nbformat_minor": 4
}
