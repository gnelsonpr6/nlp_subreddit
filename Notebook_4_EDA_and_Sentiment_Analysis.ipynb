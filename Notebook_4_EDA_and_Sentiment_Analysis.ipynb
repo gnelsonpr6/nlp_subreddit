{
 "cells": [
  {
   "cell_type": "code",
   "execution_count": 25,
   "metadata": {},
   "outputs": [],
   "source": [
    "import time\n",
    "import warnings\n",
    "import requests\n",
    "import pandas as pd\n",
    "import numpy as np\n",
    "import enchant\n",
    "import matplotlib.pyplot as plt\n",
    "import seaborn as sns\n",
    "from nltk.stem import WordNetLemmatizer\n",
    "from nltk.stem import PorterStemmer\n",
    "from nltk.corpus import stopwords\n",
    "from sklearn.feature_extraction.text import TfidfVectorizer\n",
    "from sklearn.model_selection import train_test_split, GridSearchCV, cross_val_score\n",
    "from sklearn.linear_model import LogisticRegression\n",
    "from sklearn.ensemble import RandomForestClassifier, ExtraTreesClassifier\n",
    "from vaderSentiment.vaderSentiment import SentimentIntensityAnalyzer"
   ]
  },
  {
   "cell_type": "markdown",
   "metadata": {},
   "source": [
    "# DATA SETUP"
   ]
  },
  {
   "cell_type": "code",
   "execution_count": 2,
   "metadata": {},
   "outputs": [],
   "source": [
    "warnings.filterwarnings('ignore')"
   ]
  },
  {
   "cell_type": "code",
   "execution_count": 3,
   "metadata": {},
   "outputs": [],
   "source": [
    "df = pd.read_csv('cleaned_df.csv')"
   ]
  },
  {
   "cell_type": "code",
   "execution_count": 5,
   "metadata": {},
   "outputs": [],
   "source": [
    "df = df.drop(columns='Unnamed: 0')"
   ]
  },
  {
   "cell_type": "code",
   "execution_count": 6,
   "metadata": {},
   "outputs": [
    {
     "data": {
      "text/html": [
       "<div>\n",
       "<style scoped>\n",
       "    .dataframe tbody tr th:only-of-type {\n",
       "        vertical-align: middle;\n",
       "    }\n",
       "\n",
       "    .dataframe tbody tr th {\n",
       "        vertical-align: top;\n",
       "    }\n",
       "\n",
       "    .dataframe thead th {\n",
       "        text-align: right;\n",
       "    }\n",
       "</style>\n",
       "<table border=\"1\" class=\"dataframe\">\n",
       "  <thead>\n",
       "    <tr style=\"text-align: right;\">\n",
       "      <th></th>\n",
       "      <th>text</th>\n",
       "      <th>iphone_subreddit</th>\n",
       "    </tr>\n",
       "  </thead>\n",
       "  <tbody>\n",
       "    <tr>\n",
       "      <th>0</th>\n",
       "      <td>What's App Slow on iPhone compared to Android</td>\n",
       "      <td>1</td>\n",
       "    </tr>\n",
       "    <tr>\n",
       "      <th>1</th>\n",
       "      <td>Iphone X expansive offer (Email Submit).</td>\n",
       "      <td>1</td>\n",
       "    </tr>\n",
       "    <tr>\n",
       "      <th>2</th>\n",
       "      <td>Got my first job, saved up for over a year, an...</td>\n",
       "      <td>1</td>\n",
       "    </tr>\n",
       "    <tr>\n",
       "      <th>3</th>\n",
       "      <td>Get S&amp;amp; P iPhone XS</td>\n",
       "      <td>1</td>\n",
       "    </tr>\n",
       "    <tr>\n",
       "      <th>4</th>\n",
       "      <td>Iphone 12 mini standby issues</td>\n",
       "      <td>1</td>\n",
       "    </tr>\n",
       "    <tr>\n",
       "      <th>...</th>\n",
       "      <td>...</td>\n",
       "      <td>...</td>\n",
       "    </tr>\n",
       "    <tr>\n",
       "      <th>19995</th>\n",
       "      <td>[SELF] Recomendo - The app that gives tv shows...</td>\n",
       "      <td>0</td>\n",
       "    </tr>\n",
       "    <tr>\n",
       "      <th>19996</th>\n",
       "      <td>Ticwatch Pro 3 Review: Wear OS Finally Works!</td>\n",
       "      <td>0</td>\n",
       "    </tr>\n",
       "    <tr>\n",
       "      <th>19997</th>\n",
       "      <td>[Mr. Mobile] Ticwatch Pro 3 Review: Wear OS Fi...</td>\n",
       "      <td>0</td>\n",
       "    </tr>\n",
       "    <tr>\n",
       "      <th>19998</th>\n",
       "      <td>Ticwatch Pro 3 Review: Wear OS Finally Works!</td>\n",
       "      <td>0</td>\n",
       "    </tr>\n",
       "    <tr>\n",
       "      <th>19999</th>\n",
       "      <td>[Mr. Mobile] Ticwatch Pro 3 Review: Wear OS Fi...</td>\n",
       "      <td>0</td>\n",
       "    </tr>\n",
       "  </tbody>\n",
       "</table>\n",
       "<p>20000 rows × 2 columns</p>\n",
       "</div>"
      ],
      "text/plain": [
       "                                                    text  iphone_subreddit\n",
       "0          What's App Slow on iPhone compared to Android                 1\n",
       "1               Iphone X expansive offer (Email Submit).                 1\n",
       "2      Got my first job, saved up for over a year, an...                 1\n",
       "3                                 Get S&amp; P iPhone XS                 1\n",
       "4                          Iphone 12 mini standby issues                 1\n",
       "...                                                  ...               ...\n",
       "19995  [SELF] Recomendo - The app that gives tv shows...                 0\n",
       "19996      Ticwatch Pro 3 Review: Wear OS Finally Works!                 0\n",
       "19997  [Mr. Mobile] Ticwatch Pro 3 Review: Wear OS Fi...                 0\n",
       "19998      Ticwatch Pro 3 Review: Wear OS Finally Works!                 0\n",
       "19999  [Mr. Mobile] Ticwatch Pro 3 Review: Wear OS Fi...                 0\n",
       "\n",
       "[20000 rows x 2 columns]"
      ]
     },
     "execution_count": 6,
     "metadata": {},
     "output_type": "execute_result"
    }
   ],
   "source": [
    "df"
   ]
  },
  {
   "cell_type": "code",
   "execution_count": null,
   "metadata": {},
   "outputs": [],
   "source": [
    "### Creating a sublist of sentences in each cell for the df['text'] column"
   ]
  },
  {
   "cell_type": "code",
   "execution_count": 7,
   "metadata": {},
   "outputs": [
    {
     "data": {
      "text/plain": [
       "[[\"What's App Slow on iPhone compared to Android\"],\n",
       " ['Iphone X expansive offer (Email Submit)'],\n",
       " ['Got my first job, saved up for over a year, and voila',\n",
       "  'My humble little home office'],\n",
       " ['Get S&amp; P iPhone XS'],\n",
       " ['Iphone 12 mini standby issues']]"
      ]
     },
     "execution_count": 7,
     "metadata": {},
     "output_type": "execute_result"
    }
   ],
   "source": [
    "# A:\n",
    "\n",
    "value_list = []\n",
    "for value in df['text']:\n",
    "    value_list.append(value.strip().split('.'))\n",
    "\n",
    "value_list\n",
    "val_list_final = []\n",
    "for value in value_list:\n",
    "    val_set = []\n",
    "    for val in value:\n",
    "        if len(val) == 0:\n",
    "            continue\n",
    "        else:\n",
    "            val_set.append(val.strip())\n",
    "    val_list_final.append(val_set)\n",
    "\n",
    "val_list_final[:5]\n",
    "     "
   ]
  },
  {
   "cell_type": "code",
   "execution_count": null,
   "metadata": {},
   "outputs": [],
   "source": [
    "### Running the Vader sentiment analyzer on each sentence in the df['text'] column"
   ]
  },
  {
   "cell_type": "code",
   "execution_count": 8,
   "metadata": {},
   "outputs": [],
   "source": [
    "analyzer = SentimentIntensityAnalyzer()\n",
    "vader_list = []\n",
    "for value in val_list_final:\n",
    "    vaders = []\n",
    "    for val in value:\n",
    "        vader = analyzer.polarity_scores(val)\n",
    "        vaders.append(vader)\n",
    "    vader_list.append(vaders)\n",
    "\n",
    "vader_list\n",
    "df['vader'] = vader_list    "
   ]
  },
  {
   "cell_type": "code",
   "execution_count": 9,
   "metadata": {},
   "outputs": [
    {
     "data": {
      "text/plain": [
       "0    [{'neg': 0.0, 'neu': 1.0, 'pos': 0.0, 'compoun...\n",
       "1    [{'neg': 0.0, 'neu': 1.0, 'pos': 0.0, 'compoun...\n",
       "2    [{'neg': 0.0, 'neu': 0.797, 'pos': 0.203, 'com...\n",
       "3    [{'neg': 0.0, 'neu': 1.0, 'pos': 0.0, 'compoun...\n",
       "4    [{'neg': 0.0, 'neu': 1.0, 'pos': 0.0, 'compoun...\n",
       "Name: vader, dtype: object"
      ]
     },
     "execution_count": 9,
     "metadata": {},
     "output_type": "execute_result"
    }
   ],
   "source": [
    "df['vader'].head()"
   ]
  },
  {
   "cell_type": "code",
   "execution_count": null,
   "metadata": {},
   "outputs": [],
   "source": [
    "### Creating columns in the dataset for each cell's vader score "
   ]
  },
  {
   "cell_type": "code",
   "execution_count": 10,
   "metadata": {},
   "outputs": [],
   "source": [
    "df['vader'] = [value[0] for value in df['vader']]"
   ]
  },
  {
   "cell_type": "code",
   "execution_count": 11,
   "metadata": {},
   "outputs": [],
   "source": [
    "df['vader_compound'] = [value['compound'] for value in df['vader']]"
   ]
  },
  {
   "cell_type": "code",
   "execution_count": 12,
   "metadata": {},
   "outputs": [],
   "source": [
    "df['vader_pos'] = [value['pos'] for value in df['vader']]"
   ]
  },
  {
   "cell_type": "code",
   "execution_count": 13,
   "metadata": {},
   "outputs": [],
   "source": [
    "df['vader_neg'] = [value['neg'] for value in df['vader']]"
   ]
  },
  {
   "cell_type": "code",
   "execution_count": 14,
   "metadata": {},
   "outputs": [],
   "source": [
    "df['vader_neu'] = [value['neu'] for value in df['vader']]"
   ]
  },
  {
   "cell_type": "code",
   "execution_count": 15,
   "metadata": {},
   "outputs": [
    {
     "data": {
      "text/html": [
       "<div>\n",
       "<style scoped>\n",
       "    .dataframe tbody tr th:only-of-type {\n",
       "        vertical-align: middle;\n",
       "    }\n",
       "\n",
       "    .dataframe tbody tr th {\n",
       "        vertical-align: top;\n",
       "    }\n",
       "\n",
       "    .dataframe thead th {\n",
       "        text-align: right;\n",
       "    }\n",
       "</style>\n",
       "<table border=\"1\" class=\"dataframe\">\n",
       "  <thead>\n",
       "    <tr style=\"text-align: right;\">\n",
       "      <th></th>\n",
       "      <th>text</th>\n",
       "      <th>iphone_subreddit</th>\n",
       "      <th>vader</th>\n",
       "      <th>vader_compound</th>\n",
       "      <th>vader_pos</th>\n",
       "      <th>vader_neg</th>\n",
       "      <th>vader_neu</th>\n",
       "    </tr>\n",
       "  </thead>\n",
       "  <tbody>\n",
       "    <tr>\n",
       "      <th>0</th>\n",
       "      <td>What's App Slow on iPhone compared to Android</td>\n",
       "      <td>1</td>\n",
       "      <td>{'neg': 0.0, 'neu': 1.0, 'pos': 0.0, 'compound...</td>\n",
       "      <td>0.0000</td>\n",
       "      <td>0.000</td>\n",
       "      <td>0.0</td>\n",
       "      <td>1.000</td>\n",
       "    </tr>\n",
       "    <tr>\n",
       "      <th>1</th>\n",
       "      <td>Iphone X expansive offer (Email Submit).</td>\n",
       "      <td>1</td>\n",
       "      <td>{'neg': 0.0, 'neu': 1.0, 'pos': 0.0, 'compound...</td>\n",
       "      <td>0.0000</td>\n",
       "      <td>0.000</td>\n",
       "      <td>0.0</td>\n",
       "      <td>1.000</td>\n",
       "    </tr>\n",
       "    <tr>\n",
       "      <th>2</th>\n",
       "      <td>Got my first job, saved up for over a year, an...</td>\n",
       "      <td>1</td>\n",
       "      <td>{'neg': 0.0, 'neu': 0.797, 'pos': 0.203, 'comp...</td>\n",
       "      <td>0.4215</td>\n",
       "      <td>0.203</td>\n",
       "      <td>0.0</td>\n",
       "      <td>0.797</td>\n",
       "    </tr>\n",
       "    <tr>\n",
       "      <th>3</th>\n",
       "      <td>Get S&amp;amp; P iPhone XS</td>\n",
       "      <td>1</td>\n",
       "      <td>{'neg': 0.0, 'neu': 1.0, 'pos': 0.0, 'compound...</td>\n",
       "      <td>0.0000</td>\n",
       "      <td>0.000</td>\n",
       "      <td>0.0</td>\n",
       "      <td>1.000</td>\n",
       "    </tr>\n",
       "    <tr>\n",
       "      <th>4</th>\n",
       "      <td>Iphone 12 mini standby issues</td>\n",
       "      <td>1</td>\n",
       "      <td>{'neg': 0.0, 'neu': 1.0, 'pos': 0.0, 'compound...</td>\n",
       "      <td>0.0000</td>\n",
       "      <td>0.000</td>\n",
       "      <td>0.0</td>\n",
       "      <td>1.000</td>\n",
       "    </tr>\n",
       "    <tr>\n",
       "      <th>...</th>\n",
       "      <td>...</td>\n",
       "      <td>...</td>\n",
       "      <td>...</td>\n",
       "      <td>...</td>\n",
       "      <td>...</td>\n",
       "      <td>...</td>\n",
       "      <td>...</td>\n",
       "    </tr>\n",
       "    <tr>\n",
       "      <th>19995</th>\n",
       "      <td>[SELF] Recomendo - The app that gives tv shows...</td>\n",
       "      <td>0</td>\n",
       "      <td>{'neg': 0.0, 'neu': 1.0, 'pos': 0.0, 'compound...</td>\n",
       "      <td>0.0000</td>\n",
       "      <td>0.000</td>\n",
       "      <td>0.0</td>\n",
       "      <td>1.000</td>\n",
       "    </tr>\n",
       "    <tr>\n",
       "      <th>19996</th>\n",
       "      <td>Ticwatch Pro 3 Review: Wear OS Finally Works!</td>\n",
       "      <td>0</td>\n",
       "      <td>{'neg': 0.0, 'neu': 1.0, 'pos': 0.0, 'compound...</td>\n",
       "      <td>0.0000</td>\n",
       "      <td>0.000</td>\n",
       "      <td>0.0</td>\n",
       "      <td>1.000</td>\n",
       "    </tr>\n",
       "    <tr>\n",
       "      <th>19997</th>\n",
       "      <td>[Mr. Mobile] Ticwatch Pro 3 Review: Wear OS Fi...</td>\n",
       "      <td>0</td>\n",
       "      <td>{'neg': 0.0, 'neu': 1.0, 'pos': 0.0, 'compound...</td>\n",
       "      <td>0.0000</td>\n",
       "      <td>0.000</td>\n",
       "      <td>0.0</td>\n",
       "      <td>1.000</td>\n",
       "    </tr>\n",
       "    <tr>\n",
       "      <th>19998</th>\n",
       "      <td>Ticwatch Pro 3 Review: Wear OS Finally Works!</td>\n",
       "      <td>0</td>\n",
       "      <td>{'neg': 0.0, 'neu': 1.0, 'pos': 0.0, 'compound...</td>\n",
       "      <td>0.0000</td>\n",
       "      <td>0.000</td>\n",
       "      <td>0.0</td>\n",
       "      <td>1.000</td>\n",
       "    </tr>\n",
       "    <tr>\n",
       "      <th>19999</th>\n",
       "      <td>[Mr. Mobile] Ticwatch Pro 3 Review: Wear OS Fi...</td>\n",
       "      <td>0</td>\n",
       "      <td>{'neg': 0.0, 'neu': 1.0, 'pos': 0.0, 'compound...</td>\n",
       "      <td>0.0000</td>\n",
       "      <td>0.000</td>\n",
       "      <td>0.0</td>\n",
       "      <td>1.000</td>\n",
       "    </tr>\n",
       "  </tbody>\n",
       "</table>\n",
       "<p>20000 rows × 7 columns</p>\n",
       "</div>"
      ],
      "text/plain": [
       "                                                    text  iphone_subreddit  \\\n",
       "0          What's App Slow on iPhone compared to Android                 1   \n",
       "1               Iphone X expansive offer (Email Submit).                 1   \n",
       "2      Got my first job, saved up for over a year, an...                 1   \n",
       "3                                 Get S&amp; P iPhone XS                 1   \n",
       "4                          Iphone 12 mini standby issues                 1   \n",
       "...                                                  ...               ...   \n",
       "19995  [SELF] Recomendo - The app that gives tv shows...                 0   \n",
       "19996      Ticwatch Pro 3 Review: Wear OS Finally Works!                 0   \n",
       "19997  [Mr. Mobile] Ticwatch Pro 3 Review: Wear OS Fi...                 0   \n",
       "19998      Ticwatch Pro 3 Review: Wear OS Finally Works!                 0   \n",
       "19999  [Mr. Mobile] Ticwatch Pro 3 Review: Wear OS Fi...                 0   \n",
       "\n",
       "                                                   vader  vader_compound  \\\n",
       "0      {'neg': 0.0, 'neu': 1.0, 'pos': 0.0, 'compound...          0.0000   \n",
       "1      {'neg': 0.0, 'neu': 1.0, 'pos': 0.0, 'compound...          0.0000   \n",
       "2      {'neg': 0.0, 'neu': 0.797, 'pos': 0.203, 'comp...          0.4215   \n",
       "3      {'neg': 0.0, 'neu': 1.0, 'pos': 0.0, 'compound...          0.0000   \n",
       "4      {'neg': 0.0, 'neu': 1.0, 'pos': 0.0, 'compound...          0.0000   \n",
       "...                                                  ...             ...   \n",
       "19995  {'neg': 0.0, 'neu': 1.0, 'pos': 0.0, 'compound...          0.0000   \n",
       "19996  {'neg': 0.0, 'neu': 1.0, 'pos': 0.0, 'compound...          0.0000   \n",
       "19997  {'neg': 0.0, 'neu': 1.0, 'pos': 0.0, 'compound...          0.0000   \n",
       "19998  {'neg': 0.0, 'neu': 1.0, 'pos': 0.0, 'compound...          0.0000   \n",
       "19999  {'neg': 0.0, 'neu': 1.0, 'pos': 0.0, 'compound...          0.0000   \n",
       "\n",
       "       vader_pos  vader_neg  vader_neu  \n",
       "0          0.000        0.0      1.000  \n",
       "1          0.000        0.0      1.000  \n",
       "2          0.203        0.0      0.797  \n",
       "3          0.000        0.0      1.000  \n",
       "4          0.000        0.0      1.000  \n",
       "...          ...        ...        ...  \n",
       "19995      0.000        0.0      1.000  \n",
       "19996      0.000        0.0      1.000  \n",
       "19997      0.000        0.0      1.000  \n",
       "19998      0.000        0.0      1.000  \n",
       "19999      0.000        0.0      1.000  \n",
       "\n",
       "[20000 rows x 7 columns]"
      ]
     },
     "execution_count": 15,
     "metadata": {},
     "output_type": "execute_result"
    }
   ],
   "source": [
    "df"
   ]
  },
  {
   "cell_type": "code",
   "execution_count": 16,
   "metadata": {},
   "outputs": [],
   "source": [
    "df = df.drop(columns='vader')"
   ]
  },
  {
   "cell_type": "code",
   "execution_count": 17,
   "metadata": {},
   "outputs": [
    {
     "data": {
      "text/html": [
       "<div>\n",
       "<style scoped>\n",
       "    .dataframe tbody tr th:only-of-type {\n",
       "        vertical-align: middle;\n",
       "    }\n",
       "\n",
       "    .dataframe tbody tr th {\n",
       "        vertical-align: top;\n",
       "    }\n",
       "\n",
       "    .dataframe thead th {\n",
       "        text-align: right;\n",
       "    }\n",
       "</style>\n",
       "<table border=\"1\" class=\"dataframe\">\n",
       "  <thead>\n",
       "    <tr style=\"text-align: right;\">\n",
       "      <th></th>\n",
       "      <th>text</th>\n",
       "      <th>iphone_subreddit</th>\n",
       "      <th>vader_compound</th>\n",
       "      <th>vader_pos</th>\n",
       "      <th>vader_neg</th>\n",
       "      <th>vader_neu</th>\n",
       "    </tr>\n",
       "  </thead>\n",
       "  <tbody>\n",
       "    <tr>\n",
       "      <th>0</th>\n",
       "      <td>What's App Slow on iPhone compared to Android</td>\n",
       "      <td>1</td>\n",
       "      <td>0.0000</td>\n",
       "      <td>0.000</td>\n",
       "      <td>0.0</td>\n",
       "      <td>1.000</td>\n",
       "    </tr>\n",
       "    <tr>\n",
       "      <th>1</th>\n",
       "      <td>Iphone X expansive offer (Email Submit).</td>\n",
       "      <td>1</td>\n",
       "      <td>0.0000</td>\n",
       "      <td>0.000</td>\n",
       "      <td>0.0</td>\n",
       "      <td>1.000</td>\n",
       "    </tr>\n",
       "    <tr>\n",
       "      <th>2</th>\n",
       "      <td>Got my first job, saved up for over a year, an...</td>\n",
       "      <td>1</td>\n",
       "      <td>0.4215</td>\n",
       "      <td>0.203</td>\n",
       "      <td>0.0</td>\n",
       "      <td>0.797</td>\n",
       "    </tr>\n",
       "    <tr>\n",
       "      <th>3</th>\n",
       "      <td>Get S&amp;amp; P iPhone XS</td>\n",
       "      <td>1</td>\n",
       "      <td>0.0000</td>\n",
       "      <td>0.000</td>\n",
       "      <td>0.0</td>\n",
       "      <td>1.000</td>\n",
       "    </tr>\n",
       "    <tr>\n",
       "      <th>4</th>\n",
       "      <td>Iphone 12 mini standby issues</td>\n",
       "      <td>1</td>\n",
       "      <td>0.0000</td>\n",
       "      <td>0.000</td>\n",
       "      <td>0.0</td>\n",
       "      <td>1.000</td>\n",
       "    </tr>\n",
       "    <tr>\n",
       "      <th>...</th>\n",
       "      <td>...</td>\n",
       "      <td>...</td>\n",
       "      <td>...</td>\n",
       "      <td>...</td>\n",
       "      <td>...</td>\n",
       "      <td>...</td>\n",
       "    </tr>\n",
       "    <tr>\n",
       "      <th>19995</th>\n",
       "      <td>[SELF] Recomendo - The app that gives tv shows...</td>\n",
       "      <td>0</td>\n",
       "      <td>0.0000</td>\n",
       "      <td>0.000</td>\n",
       "      <td>0.0</td>\n",
       "      <td>1.000</td>\n",
       "    </tr>\n",
       "    <tr>\n",
       "      <th>19996</th>\n",
       "      <td>Ticwatch Pro 3 Review: Wear OS Finally Works!</td>\n",
       "      <td>0</td>\n",
       "      <td>0.0000</td>\n",
       "      <td>0.000</td>\n",
       "      <td>0.0</td>\n",
       "      <td>1.000</td>\n",
       "    </tr>\n",
       "    <tr>\n",
       "      <th>19997</th>\n",
       "      <td>[Mr. Mobile] Ticwatch Pro 3 Review: Wear OS Fi...</td>\n",
       "      <td>0</td>\n",
       "      <td>0.0000</td>\n",
       "      <td>0.000</td>\n",
       "      <td>0.0</td>\n",
       "      <td>1.000</td>\n",
       "    </tr>\n",
       "    <tr>\n",
       "      <th>19998</th>\n",
       "      <td>Ticwatch Pro 3 Review: Wear OS Finally Works!</td>\n",
       "      <td>0</td>\n",
       "      <td>0.0000</td>\n",
       "      <td>0.000</td>\n",
       "      <td>0.0</td>\n",
       "      <td>1.000</td>\n",
       "    </tr>\n",
       "    <tr>\n",
       "      <th>19999</th>\n",
       "      <td>[Mr. Mobile] Ticwatch Pro 3 Review: Wear OS Fi...</td>\n",
       "      <td>0</td>\n",
       "      <td>0.0000</td>\n",
       "      <td>0.000</td>\n",
       "      <td>0.0</td>\n",
       "      <td>1.000</td>\n",
       "    </tr>\n",
       "  </tbody>\n",
       "</table>\n",
       "<p>20000 rows × 6 columns</p>\n",
       "</div>"
      ],
      "text/plain": [
       "                                                    text  iphone_subreddit  \\\n",
       "0          What's App Slow on iPhone compared to Android                 1   \n",
       "1               Iphone X expansive offer (Email Submit).                 1   \n",
       "2      Got my first job, saved up for over a year, an...                 1   \n",
       "3                                 Get S&amp; P iPhone XS                 1   \n",
       "4                          Iphone 12 mini standby issues                 1   \n",
       "...                                                  ...               ...   \n",
       "19995  [SELF] Recomendo - The app that gives tv shows...                 0   \n",
       "19996      Ticwatch Pro 3 Review: Wear OS Finally Works!                 0   \n",
       "19997  [Mr. Mobile] Ticwatch Pro 3 Review: Wear OS Fi...                 0   \n",
       "19998      Ticwatch Pro 3 Review: Wear OS Finally Works!                 0   \n",
       "19999  [Mr. Mobile] Ticwatch Pro 3 Review: Wear OS Fi...                 0   \n",
       "\n",
       "       vader_compound  vader_pos  vader_neg  vader_neu  \n",
       "0              0.0000      0.000        0.0      1.000  \n",
       "1              0.0000      0.000        0.0      1.000  \n",
       "2              0.4215      0.203        0.0      0.797  \n",
       "3              0.0000      0.000        0.0      1.000  \n",
       "4              0.0000      0.000        0.0      1.000  \n",
       "...               ...        ...        ...        ...  \n",
       "19995          0.0000      0.000        0.0      1.000  \n",
       "19996          0.0000      0.000        0.0      1.000  \n",
       "19997          0.0000      0.000        0.0      1.000  \n",
       "19998          0.0000      0.000        0.0      1.000  \n",
       "19999          0.0000      0.000        0.0      1.000  \n",
       "\n",
       "[20000 rows x 6 columns]"
      ]
     },
     "execution_count": 17,
     "metadata": {},
     "output_type": "execute_result"
    }
   ],
   "source": [
    "df"
   ]
  },
  {
   "cell_type": "markdown",
   "metadata": {},
   "source": [
    "# EDA"
   ]
  },
  {
   "cell_type": "code",
   "execution_count": null,
   "metadata": {},
   "outputs": [],
   "source": [
    "### Showing the top 15 vader compound scores for Android phones"
   ]
  },
  {
   "cell_type": "code",
   "execution_count": 18,
   "metadata": {},
   "outputs": [
    {
     "data": {
      "text/html": [
       "<div>\n",
       "<style scoped>\n",
       "    .dataframe tbody tr th:only-of-type {\n",
       "        vertical-align: middle;\n",
       "    }\n",
       "\n",
       "    .dataframe tbody tr th {\n",
       "        vertical-align: top;\n",
       "    }\n",
       "\n",
       "    .dataframe thead th {\n",
       "        text-align: right;\n",
       "    }\n",
       "</style>\n",
       "<table border=\"1\" class=\"dataframe\">\n",
       "  <thead>\n",
       "    <tr style=\"text-align: right;\">\n",
       "      <th></th>\n",
       "      <th>text</th>\n",
       "      <th>iphone_subreddit</th>\n",
       "      <th>vader_compound</th>\n",
       "      <th>vader_pos</th>\n",
       "      <th>vader_neg</th>\n",
       "      <th>vader_neu</th>\n",
       "    </tr>\n",
       "  </thead>\n",
       "  <tbody>\n",
       "    <tr>\n",
       "      <th>16388</th>\n",
       "      <td>Can any recommend the best budget phone under ...</td>\n",
       "      <td>0</td>\n",
       "      <td>0.9217</td>\n",
       "      <td>0.468</td>\n",
       "      <td>0.000</td>\n",
       "      <td>0.532</td>\n",
       "    </tr>\n",
       "    <tr>\n",
       "      <th>10428</th>\n",
       "      <td>Best Price High quality smartphone super macro...</td>\n",
       "      <td>0</td>\n",
       "      <td>0.9081</td>\n",
       "      <td>0.487</td>\n",
       "      <td>0.000</td>\n",
       "      <td>0.513</td>\n",
       "    </tr>\n",
       "    <tr>\n",
       "      <th>13468</th>\n",
       "      <td>Best super cheap (50-75~) android phone for Ve...</td>\n",
       "      <td>0</td>\n",
       "      <td>0.8442</td>\n",
       "      <td>0.323</td>\n",
       "      <td>0.000</td>\n",
       "      <td>0.677</td>\n",
       "    </tr>\n",
       "    <tr>\n",
       "      <th>19951</th>\n",
       "      <td>can you give me some advice on the best camera...</td>\n",
       "      <td>0</td>\n",
       "      <td>0.8360</td>\n",
       "      <td>0.345</td>\n",
       "      <td>0.000</td>\n",
       "      <td>0.655</td>\n",
       "    </tr>\n",
       "    <tr>\n",
       "      <th>14545</th>\n",
       "      <td>Qualcomm’s new Snapdragon 888 promises faster ...</td>\n",
       "      <td>0</td>\n",
       "      <td>0.8221</td>\n",
       "      <td>0.462</td>\n",
       "      <td>0.000</td>\n",
       "      <td>0.538</td>\n",
       "    </tr>\n",
       "    <tr>\n",
       "      <th>14547</th>\n",
       "      <td>Qualcomm’s new Snapdragon 888 promises faster ...</td>\n",
       "      <td>0</td>\n",
       "      <td>0.8221</td>\n",
       "      <td>0.462</td>\n",
       "      <td>0.000</td>\n",
       "      <td>0.538</td>\n",
       "    </tr>\n",
       "    <tr>\n",
       "      <th>18829</th>\n",
       "      <td>What android is best for battery nowadays? Wit...</td>\n",
       "      <td>0</td>\n",
       "      <td>0.8156</td>\n",
       "      <td>0.404</td>\n",
       "      <td>0.000</td>\n",
       "      <td>0.596</td>\n",
       "    </tr>\n",
       "    <tr>\n",
       "      <th>15462</th>\n",
       "      <td>Phones with best tele cameras (not for zooming...</td>\n",
       "      <td>0</td>\n",
       "      <td>0.8020</td>\n",
       "      <td>0.419</td>\n",
       "      <td>0.000</td>\n",
       "      <td>0.581</td>\n",
       "    </tr>\n",
       "    <tr>\n",
       "      <th>12469</th>\n",
       "      <td>With Samsung recently trying to solve under-di...</td>\n",
       "      <td>0</td>\n",
       "      <td>0.7906</td>\n",
       "      <td>0.237</td>\n",
       "      <td>0.000</td>\n",
       "      <td>0.763</td>\n",
       "    </tr>\n",
       "    <tr>\n",
       "      <th>18440</th>\n",
       "      <td>If I wanted my next Android to have a great ca...</td>\n",
       "      <td>0</td>\n",
       "      <td>0.7906</td>\n",
       "      <td>0.212</td>\n",
       "      <td>0.000</td>\n",
       "      <td>0.788</td>\n",
       "    </tr>\n",
       "    <tr>\n",
       "      <th>10064</th>\n",
       "      <td>Samsung promised full camera support in social...</td>\n",
       "      <td>0</td>\n",
       "      <td>0.7717</td>\n",
       "      <td>0.339</td>\n",
       "      <td>0.000</td>\n",
       "      <td>0.661</td>\n",
       "    </tr>\n",
       "    <tr>\n",
       "      <th>12938</th>\n",
       "      <td>Hey guys what android should I get if I really...</td>\n",
       "      <td>0</td>\n",
       "      <td>0.7564</td>\n",
       "      <td>0.276</td>\n",
       "      <td>0.000</td>\n",
       "      <td>0.724</td>\n",
       "    </tr>\n",
       "    <tr>\n",
       "      <th>11754</th>\n",
       "      <td>Recommendations for a budget friendly phone wi...</td>\n",
       "      <td>0</td>\n",
       "      <td>0.7269</td>\n",
       "      <td>0.433</td>\n",
       "      <td>0.000</td>\n",
       "      <td>0.567</td>\n",
       "    </tr>\n",
       "    <tr>\n",
       "      <th>12061</th>\n",
       "      <td>Top 10 best Android camera apps</td>\n",
       "      <td>0</td>\n",
       "      <td>0.7184</td>\n",
       "      <td>0.600</td>\n",
       "      <td>0.000</td>\n",
       "      <td>0.400</td>\n",
       "    </tr>\n",
       "    <tr>\n",
       "      <th>16003</th>\n",
       "      <td>What is the best Snapchat apk for a better sna...</td>\n",
       "      <td>0</td>\n",
       "      <td>0.7096</td>\n",
       "      <td>0.350</td>\n",
       "      <td>0.108</td>\n",
       "      <td>0.542</td>\n",
       "    </tr>\n",
       "  </tbody>\n",
       "</table>\n",
       "</div>"
      ],
      "text/plain": [
       "                                                    text  iphone_subreddit  \\\n",
       "16388  Can any recommend the best budget phone under ...                 0   \n",
       "10428  Best Price High quality smartphone super macro...                 0   \n",
       "13468  Best super cheap (50-75~) android phone for Ve...                 0   \n",
       "19951  can you give me some advice on the best camera...                 0   \n",
       "14545  Qualcomm’s new Snapdragon 888 promises faster ...                 0   \n",
       "14547  Qualcomm’s new Snapdragon 888 promises faster ...                 0   \n",
       "18829  What android is best for battery nowadays? Wit...                 0   \n",
       "15462  Phones with best tele cameras (not for zooming...                 0   \n",
       "12469  With Samsung recently trying to solve under-di...                 0   \n",
       "18440  If I wanted my next Android to have a great ca...                 0   \n",
       "10064  Samsung promised full camera support in social...                 0   \n",
       "12938  Hey guys what android should I get if I really...                 0   \n",
       "11754  Recommendations for a budget friendly phone wi...                 0   \n",
       "12061                    Top 10 best Android camera apps                 0   \n",
       "16003  What is the best Snapchat apk for a better sna...                 0   \n",
       "\n",
       "       vader_compound  vader_pos  vader_neg  vader_neu  \n",
       "16388          0.9217      0.468      0.000      0.532  \n",
       "10428          0.9081      0.487      0.000      0.513  \n",
       "13468          0.8442      0.323      0.000      0.677  \n",
       "19951          0.8360      0.345      0.000      0.655  \n",
       "14545          0.8221      0.462      0.000      0.538  \n",
       "14547          0.8221      0.462      0.000      0.538  \n",
       "18829          0.8156      0.404      0.000      0.596  \n",
       "15462          0.8020      0.419      0.000      0.581  \n",
       "12469          0.7906      0.237      0.000      0.763  \n",
       "18440          0.7906      0.212      0.000      0.788  \n",
       "10064          0.7717      0.339      0.000      0.661  \n",
       "12938          0.7564      0.276      0.000      0.724  \n",
       "11754          0.7269      0.433      0.000      0.567  \n",
       "12061          0.7184      0.600      0.000      0.400  \n",
       "16003          0.7096      0.350      0.108      0.542  "
      ]
     },
     "execution_count": 18,
     "metadata": {},
     "output_type": "execute_result"
    }
   ],
   "source": [
    "df.loc[df['iphone_subreddit'] == 0][df['vader_compound'] > .6]\\\n",
    "[df['text'].str.contains('camera')].sort_values(by='vader_compound', ascending=False).head(15)"
   ]
  },
  {
   "cell_type": "code",
   "execution_count": 26,
   "metadata": {},
   "outputs": [],
   "source": [
    "### Showing the top 15 vader compound scores for iPhones"
   ]
  },
  {
   "cell_type": "code",
   "execution_count": 19,
   "metadata": {},
   "outputs": [
    {
     "data": {
      "text/html": [
       "<div>\n",
       "<style scoped>\n",
       "    .dataframe tbody tr th:only-of-type {\n",
       "        vertical-align: middle;\n",
       "    }\n",
       "\n",
       "    .dataframe tbody tr th {\n",
       "        vertical-align: top;\n",
       "    }\n",
       "\n",
       "    .dataframe thead th {\n",
       "        text-align: right;\n",
       "    }\n",
       "</style>\n",
       "<table border=\"1\" class=\"dataframe\">\n",
       "  <thead>\n",
       "    <tr style=\"text-align: right;\">\n",
       "      <th></th>\n",
       "      <th>text</th>\n",
       "      <th>iphone_subreddit</th>\n",
       "      <th>vader_compound</th>\n",
       "      <th>vader_pos</th>\n",
       "      <th>vader_neg</th>\n",
       "      <th>vader_neu</th>\n",
       "    </tr>\n",
       "  </thead>\n",
       "  <tbody>\n",
       "    <tr>\n",
       "      <th>1621</th>\n",
       "      <td>Bi-Weekly Photography Thread | Share your best...</td>\n",
       "      <td>1</td>\n",
       "      <td>0.9039</td>\n",
       "      <td>0.318</td>\n",
       "      <td>0.000</td>\n",
       "      <td>0.682</td>\n",
       "    </tr>\n",
       "    <tr>\n",
       "      <th>6577</th>\n",
       "      <td>Iphone 12 mini - Front camera beauty filter???...</td>\n",
       "      <td>1</td>\n",
       "      <td>0.8818</td>\n",
       "      <td>0.188</td>\n",
       "      <td>0.035</td>\n",
       "      <td>0.777</td>\n",
       "    </tr>\n",
       "    <tr>\n",
       "      <th>6694</th>\n",
       "      <td>Yet another iPhone 12 pro or pro max threat :(...</td>\n",
       "      <td>1</td>\n",
       "      <td>0.8710</td>\n",
       "      <td>0.216</td>\n",
       "      <td>0.043</td>\n",
       "      <td>0.741</td>\n",
       "    </tr>\n",
       "    <tr>\n",
       "      <th>2804</th>\n",
       "      <td>Best free camera app for full control</td>\n",
       "      <td>1</td>\n",
       "      <td>0.8176</td>\n",
       "      <td>0.600</td>\n",
       "      <td>0.000</td>\n",
       "      <td>0.400</td>\n",
       "    </tr>\n",
       "    <tr>\n",
       "      <th>3190</th>\n",
       "      <td>Is there a good app or setting that can optimi...</td>\n",
       "      <td>1</td>\n",
       "      <td>0.8074</td>\n",
       "      <td>0.356</td>\n",
       "      <td>0.000</td>\n",
       "      <td>0.644</td>\n",
       "    </tr>\n",
       "    <tr>\n",
       "      <th>2369</th>\n",
       "      <td>My Iphone X camera won’t work! HELP PLEASE!</td>\n",
       "      <td>1</td>\n",
       "      <td>0.7935</td>\n",
       "      <td>0.540</td>\n",
       "      <td>0.000</td>\n",
       "      <td>0.460</td>\n",
       "    </tr>\n",
       "    <tr>\n",
       "      <th>2489</th>\n",
       "      <td>I love the way my 11 Pro Max’s cameras look in...</td>\n",
       "      <td>1</td>\n",
       "      <td>0.6696</td>\n",
       "      <td>0.257</td>\n",
       "      <td>0.000</td>\n",
       "      <td>0.743</td>\n",
       "    </tr>\n",
       "    <tr>\n",
       "      <th>6231</th>\n",
       "      <td>Why does it look like the XS has a better self...</td>\n",
       "      <td>1</td>\n",
       "      <td>0.6597</td>\n",
       "      <td>0.241</td>\n",
       "      <td>0.000</td>\n",
       "      <td>0.759</td>\n",
       "    </tr>\n",
       "    <tr>\n",
       "      <th>684</th>\n",
       "      <td>Best iPhone front camera</td>\n",
       "      <td>1</td>\n",
       "      <td>0.6369</td>\n",
       "      <td>0.583</td>\n",
       "      <td>0.000</td>\n",
       "      <td>0.417</td>\n",
       "    </tr>\n",
       "    <tr>\n",
       "      <th>1091</th>\n",
       "      <td>iPhone X was the last best iPhone camera (retu...</td>\n",
       "      <td>1</td>\n",
       "      <td>0.6369</td>\n",
       "      <td>0.276</td>\n",
       "      <td>0.000</td>\n",
       "      <td>0.724</td>\n",
       "    </tr>\n",
       "    <tr>\n",
       "      <th>6900</th>\n",
       "      <td>Question: Which iPhone has the best selfie camera</td>\n",
       "      <td>1</td>\n",
       "      <td>0.6369</td>\n",
       "      <td>0.375</td>\n",
       "      <td>0.000</td>\n",
       "      <td>0.625</td>\n",
       "    </tr>\n",
       "    <tr>\n",
       "      <th>8328</th>\n",
       "      <td>Which is the best camera app for iphones?</td>\n",
       "      <td>1</td>\n",
       "      <td>0.6369</td>\n",
       "      <td>0.375</td>\n",
       "      <td>0.000</td>\n",
       "      <td>0.625</td>\n",
       "    </tr>\n",
       "    <tr>\n",
       "      <th>8444</th>\n",
       "      <td>Best part of working in radiology is using my ...</td>\n",
       "      <td>1</td>\n",
       "      <td>0.6369</td>\n",
       "      <td>0.198</td>\n",
       "      <td>0.000</td>\n",
       "      <td>0.802</td>\n",
       "    </tr>\n",
       "    <tr>\n",
       "      <th>2510</th>\n",
       "      <td>The iPhone 12’s camera and night mode are abso...</td>\n",
       "      <td>1</td>\n",
       "      <td>0.6240</td>\n",
       "      <td>0.313</td>\n",
       "      <td>0.000</td>\n",
       "      <td>0.687</td>\n",
       "    </tr>\n",
       "  </tbody>\n",
       "</table>\n",
       "</div>"
      ],
      "text/plain": [
       "                                                   text  iphone_subreddit  \\\n",
       "1621  Bi-Weekly Photography Thread | Share your best...                 1   \n",
       "6577  Iphone 12 mini - Front camera beauty filter???...                 1   \n",
       "6694  Yet another iPhone 12 pro or pro max threat :(...                 1   \n",
       "2804              Best free camera app for full control                 1   \n",
       "3190  Is there a good app or setting that can optimi...                 1   \n",
       "2369        My Iphone X camera won’t work! HELP PLEASE!                 1   \n",
       "2489  I love the way my 11 Pro Max’s cameras look in...                 1   \n",
       "6231  Why does it look like the XS has a better self...                 1   \n",
       "684                            Best iPhone front camera                 1   \n",
       "1091  iPhone X was the last best iPhone camera (retu...                 1   \n",
       "6900  Question: Which iPhone has the best selfie camera                 1   \n",
       "8328          Which is the best camera app for iphones?                 1   \n",
       "8444  Best part of working in radiology is using my ...                 1   \n",
       "2510  The iPhone 12’s camera and night mode are abso...                 1   \n",
       "\n",
       "      vader_compound  vader_pos  vader_neg  vader_neu  \n",
       "1621          0.9039      0.318      0.000      0.682  \n",
       "6577          0.8818      0.188      0.035      0.777  \n",
       "6694          0.8710      0.216      0.043      0.741  \n",
       "2804          0.8176      0.600      0.000      0.400  \n",
       "3190          0.8074      0.356      0.000      0.644  \n",
       "2369          0.7935      0.540      0.000      0.460  \n",
       "2489          0.6696      0.257      0.000      0.743  \n",
       "6231          0.6597      0.241      0.000      0.759  \n",
       "684           0.6369      0.583      0.000      0.417  \n",
       "1091          0.6369      0.276      0.000      0.724  \n",
       "6900          0.6369      0.375      0.000      0.625  \n",
       "8328          0.6369      0.375      0.000      0.625  \n",
       "8444          0.6369      0.198      0.000      0.802  \n",
       "2510          0.6240      0.313      0.000      0.687  "
      ]
     },
     "execution_count": 19,
     "metadata": {},
     "output_type": "execute_result"
    }
   ],
   "source": [
    "df.loc[df['iphone_subreddit'] == 1][df['vader_compound'] > .6]\\\n",
    "[df['text'].str.contains('camera')].sort_values(by='vader_compound', ascending=False).head(15)"
   ]
  },
  {
   "cell_type": "code",
   "execution_count": 116,
   "metadata": {},
   "outputs": [],
   "source": [
    "### Below are the top 25 words from both the iphone and android subreddits"
   ]
  },
  {
   "cell_type": "code",
   "execution_count": 130,
   "metadata": {},
   "outputs": [
    {
     "data": {
      "image/png": "[encoded data removed]",
      "text/plain": [
       "<Figure size 504x360 with 1 Axes>"
      ]
     },
     "metadata": {
      "needs_background": "light"
     },
     "output_type": "display_data"
    }
   ],
   "source": [
    "android_words = pd.read_csv('android_top_words.csv')\n",
    "android_words['words'] = android_words['Unnamed: 0']\n",
    "android_words = android_words.drop(columns='Unnamed: 0')\n",
    "android_words['count'] = android_words['0']\n",
    "android_words = android_words.drop(columns='0')\n",
    "\n",
    "plt.figure(figsize=(7, 5))\n",
    "plt.barh(y=android_words['words'], width=android_words['count'])\n",
    "plt.title('Top 25 words found in the Android subreddit')\n",
    "plt.xlabel('Word Count');"
   ]
  },
  {
   "cell_type": "code",
   "execution_count": 132,
   "metadata": {},
   "outputs": [
    {
     "data": {
      "image/png": "[encoded data removed]",
      "text/plain": [
       "<Figure size 504x360 with 1 Axes>"
      ]
     },
     "metadata": {
      "needs_background": "light"
     },
     "output_type": "display_data"
    }
   ],
   "source": [
    "iphone_words = pd.read_csv('iphone_top_words.csv')\n",
    "iphone_words['words'] = iphone_words['Unnamed: 0']\n",
    "iphone_words = iphone_words.drop(columns='Unnamed: 0')\n",
    "iphone_words['count'] = iphone_words['0']\n",
    "iphone_words = iphone_words.drop(columns='0')\n",
    "\n",
    "plt.figure(figsize=(7, 5))\n",
    "plt.barh(y=iphone_words['words'], width=iphone_words['count'])\n",
    "plt.title('Top 25 words found in the iPhone subreddit')\n",
    "plt.xlabel('Word Count');"
   ]
  },
  {
   "cell_type": "markdown",
   "metadata": {},
   "source": [
    "## Below are histograms of compound vader scores for both iPhones and Androids based on Photo and Video related terms, along with the summed compound vader scores based on each keyword seen in histograms"
   ]
  },
  {
   "cell_type": "code",
   "execution_count": 48,
   "metadata": {},
   "outputs": [
    {
     "data": {
      "image/png": "[encoded data removed]",
      "text/plain": [
       "<Figure size 432x288 with 1 Axes>"
      ]
     },
     "metadata": {
      "needs_background": "light"
     },
     "output_type": "display_data"
    }
   ],
   "source": [
    "plt.hist(df.loc[df['iphone_subreddit'] == 1][df['vader_compound'] != 0]\\\n",
    "         [df['text'].str.contains('camera')]['vader_compound'])\n",
    "plt.title('iPhone Compound Sentiment Score Distribution for posts contaning \"Camera\"')\n",
    "plt.xlabel('Compound Sentiment Score');"
   ]
  },
  {
   "cell_type": "code",
   "execution_count": 47,
   "metadata": {},
   "outputs": [
    {
     "data": {
      "image/png": "[encoded data removed]",
      "text/plain": [
       "<Figure size 432x288 with 1 Axes>"
      ]
     },
     "metadata": {
      "needs_background": "light"
     },
     "output_type": "display_data"
    }
   ],
   "source": [
    "plt.hist(df.loc[df['iphone_subreddit'] == 0][df['vader_compound'] != 0]\\\n",
    "         [df['text'].str.contains('camera')]['vader_compound'])\n",
    "plt.title('Android Compound Sentiment Score Distribution for posts contaning \"Camera\"')\n",
    "plt.xlabel('Compound Sentiment Score');"
   ]
  },
  {
   "cell_type": "code",
   "execution_count": 70,
   "metadata": {},
   "outputs": [
    {
     "name": "stdout",
     "output_type": "stream",
     "text": [
      "android camera compound sentiment sum: 23.496100000000002\n",
      "iphone camera compound sentiment sum: 1.4548000000000008\n"
     ]
    }
   ],
   "source": [
    "print('android camera compound sentiment sum:', df.loc[df['iphone_subreddit'] == 0]\\\n",
    "      [df['text'].str.contains('camera')].sum()[2])\n",
    "print('iphone camera compound sentiment sum:', df.loc[df['iphone_subreddit'] == 1]\\\n",
    "      [df['text'].str.contains('camera')].sum()[2])"
   ]
  },
  {
   "cell_type": "code",
   "execution_count": 46,
   "metadata": {},
   "outputs": [
    {
     "data": {
      "image/png": "[encoded data removed]",
      "text/plain": [
       "<Figure size 432x288 with 1 Axes>"
      ]
     },
     "metadata": {
      "needs_background": "light"
     },
     "output_type": "display_data"
    }
   ],
   "source": [
    "plt.hist(df.loc[df['iphone_subreddit'] == 1][df['vader_compound'] != 0]\\\n",
    "         [df['text'].str.contains('video')]['vader_compound'])\n",
    "plt.title('iPhone Compound Sentiment Score Distribution for posts contaning \"Video\"')\n",
    "plt.xlabel('Compound Sentiment Score');"
   ]
  },
  {
   "cell_type": "code",
   "execution_count": 45,
   "metadata": {},
   "outputs": [
    {
     "data": {
      "image/png": "[encoded data removed]",
      "text/plain": [
       "<Figure size 432x288 with 1 Axes>"
      ]
     },
     "metadata": {
      "needs_background": "light"
     },
     "output_type": "display_data"
    }
   ],
   "source": [
    "plt.hist(df.loc[df['iphone_subreddit'] == 0][df['vader_compound'] != 0]\\\n",
    "         [df['text'].str.contains('video')]['vader_compound'])\n",
    "plt.title('Android Compound Sentiment Score Distribution for posts contaning \"Video\"')\n",
    "plt.xlabel('Compound Sentiment Score');"
   ]
  },
  {
   "cell_type": "code",
   "execution_count": 133,
   "metadata": {},
   "outputs": [
    {
     "name": "stdout",
     "output_type": "stream",
     "text": [
      "android video compound sentiment sum: 17.835\n",
      "iphone video compound sentiment sum: 10.6523\n"
     ]
    }
   ],
   "source": [
    "print('android video compound sentiment sum:', df.loc[df['iphone_subreddit'] == 0]\\\n",
    "      [df['text'].str.contains('video')].sum()[2])\n",
    "print('iphone video compound sentiment sum:', df.loc[df['iphone_subreddit'] == 1]\\\n",
    "      [df['text'].str.contains('video')].sum()[2])"
   ]
  },
  {
   "cell_type": "code",
   "execution_count": 67,
   "metadata": {},
   "outputs": [
    {
     "data": {
      "image/png": "[encoded data removed]",
      "text/plain": [
       "<Figure size 432x288 with 1 Axes>"
      ]
     },
     "metadata": {
      "needs_background": "light"
     },
     "output_type": "display_data"
    }
   ],
   "source": [
    "plt.hist(df.loc[df['iphone_subreddit'] == 0][df['vader_compound'] != 0]\\\n",
    "         [df['text'].str.contains('pic')]['vader_compound'])\n",
    "plt.title('Android Compound Sentiment Score Distribution for posts contaning \"Pic\"')\n",
    "plt.xlabel('Compound Sentiment Score');"
   ]
  },
  {
   "cell_type": "code",
   "execution_count": 146,
   "metadata": {},
   "outputs": [
    {
     "data": {
      "image/png": "[encoded data removed]",
      "text/plain": [
       "<Figure size 432x288 with 1 Axes>"
      ]
     },
     "metadata": {
      "needs_background": "light"
     },
     "output_type": "display_data"
    }
   ],
   "source": [
    "plt.hist(df.loc[df['iphone_subreddit'] == 1][df['vader_compound'] != 0]\\\n",
    "         [df['text'].str.contains('pic')]['vader_compound'])\n",
    "plt.title('iPhone Compound Sentiment Score Distribution for posts contaning \"Pic\"')\n",
    "plt.xlabel('Compound Sentiment Score');"
   ]
  },
  {
   "cell_type": "code",
   "execution_count": 134,
   "metadata": {},
   "outputs": [
    {
     "name": "stdout",
     "output_type": "stream",
     "text": [
      "android pic compound sentiment sum: 4.494199999999999\n",
      "iphone pic compound sentiment sum: 0.7173000000000005\n"
     ]
    }
   ],
   "source": [
    "print('android pic compound sentiment sum:', df.loc[df['iphone_subreddit'] == 0]\\\n",
    "      [df['text'].str.contains('pic')].sum()[2])\n",
    "print('iphone pic compound sentiment sum:', df.loc[df['iphone_subreddit'] == 1]\\\n",
    "      [df['text'].str.contains('pic')].sum()[2])"
   ]
  },
  {
   "cell_type": "code",
   "execution_count": 148,
   "metadata": {},
   "outputs": [
    {
     "data": {
      "image/png": "[encoded data removed]",
      "text/plain": [
       "<Figure size 432x288 with 1 Axes>"
      ]
     },
     "metadata": {
      "needs_background": "light"
     },
     "output_type": "display_data"
    }
   ],
   "source": [
    "plt.hist(df.loc[df['iphone_subreddit'] == 1][df['vader_compound'] != 0]\\\n",
    "         [df['text'].str.contains('pixel')]['vader_compound'])\n",
    "plt.title('iPhone Compound Sentiment Score Distribution for posts contaning \"Pixel\"')\n",
    "plt.xlabel('Compound Sentiment Score');"
   ]
  },
  {
   "cell_type": "code",
   "execution_count": 139,
   "metadata": {},
   "outputs": [
    {
     "data": {
      "image/png": "[encoded data removed]",
      "text/plain": [
       "<Figure size 432x288 with 1 Axes>"
      ]
     },
     "metadata": {
      "needs_background": "light"
     },
     "output_type": "display_data"
    }
   ],
   "source": [
    "plt.hist(df.loc[df['iphone_subreddit'] == 0][df['vader_compound'] != 0]\\\n",
    "         [df['text'].str.contains('pixel')]['vader_compound'])\n",
    "plt.title('Android Compound Sentiment Score Distribution for posts contaning \"Pixel\"')\n",
    "plt.xlabel('Compound Sentiment Score');"
   ]
  },
  {
   "cell_type": "code",
   "execution_count": 145,
   "metadata": {},
   "outputs": [
    {
     "name": "stdout",
     "output_type": "stream",
     "text": [
      "android pix compound sentiment sum: 3.4809999999999994\n",
      "iphone pix compound sentiment sum: -0.8209\n"
     ]
    }
   ],
   "source": [
    "print('android pix compound sentiment sum:', df.loc[df['iphone_subreddit'] == 0]\\\n",
    "      [df['text'].str.contains('pixel')].sum()[2])\n",
    "print('iphone pix compound sentiment sum:', df.loc[df['iphone_subreddit'] == 1]\\\n",
    "      [df['text'].str.contains('pixel')].sum()[2])"
   ]
  },
  {
   "cell_type": "code",
   "execution_count": 150,
   "metadata": {},
   "outputs": [
    {
     "data": {
      "image/png": "[encoded data removed]",
      "text/plain": [
       "<Figure size 432x288 with 1 Axes>"
      ]
     },
     "metadata": {
      "needs_background": "light"
     },
     "output_type": "display_data"
    }
   ],
   "source": [
    "plt.hist(df.loc[df['iphone_subreddit'] == 1][df['vader_compound'] != 0]\\\n",
    "         [df['text'].str.contains('photo')]['vader_compound'])\n",
    "plt.title('iPhone Compound Sentiment Score Distribution for posts contaning \"Photo\"')\n",
    "plt.xlabel('Compound Sentiment Score');"
   ]
  },
  {
   "cell_type": "code",
   "execution_count": 151,
   "metadata": {},
   "outputs": [
    {
     "data": {
      "image/png": "[encoded data removed]",
      "text/plain": [
       "<Figure size 432x288 with 1 Axes>"
      ]
     },
     "metadata": {
      "needs_background": "light"
     },
     "output_type": "display_data"
    }
   ],
   "source": [
    "plt.hist(df.loc[df['iphone_subreddit'] == 0][df['vader_compound'] != 0]\\\n",
    "         [df['text'].str.contains('photo')]['vader_compound'])\n",
    "plt.title('Android Compound Sentiment Score Distribution for posts contaning \"Photo\"')\n",
    "plt.xlabel('Compound Sentiment Score');"
   ]
  },
  {
   "cell_type": "code",
   "execution_count": 149,
   "metadata": {},
   "outputs": [
    {
     "name": "stdout",
     "output_type": "stream",
     "text": [
      "android photo compound sentiment sum: 3.2895\n",
      "iphone photo compound sentiment sum: 8.8476\n"
     ]
    }
   ],
   "source": [
    "print('android photo compound sentiment sum:', df.loc[df['iphone_subreddit'] == 0]\\\n",
    "      [df['text'].str.contains('photo')].sum()[2])\n",
    "print('iphone photo compound sentiment sum:', df.loc[df['iphone_subreddit'] == 1]\\\n",
    "      [df['text'].str.contains('photo')].sum()[2])"
   ]
  },
  {
   "cell_type": "markdown",
   "metadata": {},
   "source": [
    "# Conclusion"
   ]
  },
  {
   "cell_type": "markdown",
   "metadata": {},
   "source": [
    "## Overall Android seems to be the best option for developing a photo and video editing app based on the sentiment scores seen above. Android tends to have a much higher compounded sentiment sum than iphone for each key word found in both categories."
   ]
  }
 ],
 "metadata": {
  "kernelspec": {
   "display_name": "Python 3",
   "language": "python",
   "name": "python3"
  },
  "language_info": {
   "codemirror_mode": {
    "name": "ipython",
    "version": 3
   },
   "file_extension": ".py",
   "mimetype": "text/x-python",
   "name": "python",
   "nbconvert_exporter": "python",
   "pygments_lexer": "ipython3",
   "version": "3.8.5"
  }
 },
 "nbformat": 4,
 "nbformat_minor": 4
}
